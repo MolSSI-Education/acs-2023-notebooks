{
 "cells": [
  {
   "cell_type": "code",
   "execution_count": null,
   "id": "87349a02-733f-4916-8acc-ff928dc6fb9d",
   "metadata": {},
   "outputs": [],
   "source": [
    "# apply Jupyter notebook style\n",
    "from IPython.core.display import HTML\n",
    "\n",
    "from custom.styles import style_string\n",
    "\n",
    "HTML(style_string)"
   ]
  },
  {
   "cell_type": "markdown",
   "id": "8f4c7968-6d27-416a-9fe7-8642046a44a8",
   "metadata": {},
   "source": [
    "\n",
    "# Molecules from files using RDKit\n",
    "\n",
    "<div class=\"overview admonition\"> \n",
    "<p class=\"admonition-title\">Overview</p>\n",
    "\n",
    "Questions:\n",
    "\n",
    "* What are MOL and SDF files?\n",
    "* How can they be used to create Mol objects in RDKit?\n",
    "* How can I work with RDKit molecule objects in a pandas DataFrame?\n",
    "\n",
    "Objectives:\n",
    "\n",
    "* Read a MOL file.\n",
    "* Create Mol objects from MOL and SDF files.\n",
    "    \n",
    "</div>\n",
    "\n",
    "\n",
    "## Creating Mol Objects from Files\n",
    "\n",
    "Mol object instances can be created by a variety of methods.  We've seen some examples of Mol objects being created from SMILES strings, now we'll learn some additional ways a Mol can be created.\n",
    "\n",
    "Data for any system under investigation that is non-ideal, from real systems in experimental methods to optimized geometries in QM methods, cannot be communicated via a smile string.  In these situations, often more detailed specifications are needed, such as an accurate 3D geometry with explicit hydrogens.  Part of the utility of RDKit lies in its ability to create Mol objects using a variety of input formats, so that we can take molecular data from other sources or research processes and generate additional properties and descriptors.\n",
    "\n",
    "Different methods are called for depending on the format of the molecule's specifications, depending on what you're passing passing around, between researchers, applications, or modules.  Two common and versatile formats that we'll cover today are the MOL file and related Structural Data File (SDF)."
   ]
  },
  {
   "cell_type": "code",
   "execution_count": null,
   "id": "410f81da-3c65-4629-8e3a-c491ee125a4a",
   "metadata": {
    "tags": []
   },
   "outputs": [],
   "source": [
    "from rdkit import Chem"
   ]
  },
  {
   "cell_type": "markdown",
   "id": "048d3ffc-978b-41c6-bedb-0f4064ef794b",
   "metadata": {},
   "source": [
    "### Mol from Mol File\n",
    "\n",
    "The MOL file is a format first created by MDL internally and published by [Dalby et al. in 1992](https://pubs.acs.org/doi/10.1021/ci00007a012).  It was created specifically for cheminformatics applications and is the most straightforward way of passing detailed structural data and metadata into RDKit.  The formatting is very precise and adhered to strictly by RDKit, so a link to the original paper has been included above.\n",
    "\n",
    "#### Previewing the File\n",
    "Before loading the file with RDKit, let's use Python to take a look at it."
   ]
  },
  {
   "cell_type": "code",
   "execution_count": null,
   "id": "6b03cacc-5ede-4167-9c70-25d681a94eaf",
   "metadata": {
    "tags": []
   },
   "outputs": [],
   "source": [
    "pro_file = \"data/amino_acids/pro.mol\"\n",
    "\n",
    "with open(pro_file) as file:\n",
    "    print(file.read())"
   ]
  },
  {
   "cell_type": "markdown",
   "id": "83e286c0-529a-4d86-96ee-6b888b3ec869",
   "metadata": {},
   "source": [
    "#### Loading the File\n",
    "\n",
    "To load the file, we can use the `MolFromMolFile` function in RDKit. We add the argument `strictParsing=False` in case there are any slight problems with our mol file"
   ]
  },
  {
   "cell_type": "code",
   "execution_count": null,
   "id": "46008c3f-a407-4ef4-8f3b-270f19733329",
   "metadata": {
    "tags": []
   },
   "outputs": [],
   "source": [
    "pro = Chem.MolFromMolFile(pro_file, strictParsing=False)\n",
    "pro"
   ]
  },
  {
   "cell_type": "markdown",
   "id": "ed4c375b-bab5-4d11-a0ee-0b51c9868f85",
   "metadata": {},
   "source": [
    "## Mol from SDF\n",
    "\n",
    "An SDF file is a collection of **MOL file** style string blocks separated by a blank line and a line composed of 4 '$' characters.  It's a very convenient way of passing sets of molecules related in some way such as by similarity or research project between users/machines.  Since each molecule's specifications is already in MOL format, creating Mol objects is very straightforward and a list of Mols is created when the file is read.\n",
    "\n",
    "Although there are a few ways to work with SDF files in RDKit, we will highlight just one in this lesson. \n",
    "We will use the RDKit module called `PandasTools` to load all of the molecules from an SDF file into a pandas dataframe.\n",
    "\n",
    "`PandasTools` is a module in `rdkit.Chem`, and we must first import it. \n",
    "Next, we tell rdkit that we want to see our molecules as images by setting `PandasTools.RenderImagesInAllDataFrames(True)`"
   ]
  },
  {
   "cell_type": "code",
   "execution_count": null,
   "id": "51483541-95ca-46e8-8efe-d0481dfef002",
   "metadata": {
    "tags": []
   },
   "outputs": [],
   "source": [
    "from rdkit.Chem import PandasTools\n",
    "\n",
    "PandasTools.RenderImagesInAllDataFrames(True)\n",
    "\n",
    "df = PandasTools.LoadSDF(\"data/amino_acids/amino_acids-nat20.sdf\", strictParsing=False, includeFingerprints=True)"
   ]
  },
  {
   "cell_type": "code",
   "execution_count": null,
   "id": "9b95a7d9-4944-4da5-a5da-7e8316fba21e",
   "metadata": {
    "tags": []
   },
   "outputs": [],
   "source": [
    "# View the first 5 frames\n",
    "df.head()"
   ]
  },
  {
   "cell_type": "markdown",
   "id": "416dc5b0-8fa1-41d4-bef6-065dfc310f81",
   "metadata": {
    "tags": []
   },
   "source": [
    "\n",
    "<div class=\"attention admonition\"> \n",
    "<p class=\"admonition-title\">Another way to load SDF Files</p>\n",
    "<p> You might also see a list of RDKit molecule objects created using the `SDMolSupplier` function. The syntax to create a list of Mol objects from an SDF file is:</p>\n",
    "\n",
    "\n",
    "```python\n",
    "mol_list = Chem.SDMolSupplier('path/to/file.sdf')\n",
    "```\n",
    "\n",
    "\n",
    "<p>This will create an RDKit `SDMolSupplier` object. If we would like a list of RDKit `mol` objects, we can cast the variable as a list.</p>\n",
    "</div>\n",
    "\n",
    "\n"
   ]
  },
  {
   "cell_type": "markdown",
   "id": "c77b11b5",
   "metadata": {},
   "source": [
    "### Viewing multiple molecules\n",
    "\n",
    "Multiple molecules can be placed in the same image in an array.  To do this, specify the set of molecules to visualize, the number of sub-images per row, and the size of the sub-images.  In the example below, the list of molecule names generated while instantiating the Mol objects is used as a legend."
   ]
  },
  {
   "cell_type": "code",
   "execution_count": null,
   "id": "2afc25bf-69a3-43bd-a7b4-64be5562e749",
   "metadata": {
    "tags": []
   },
   "outputs": [],
   "source": [
    "# Visualize the molecules\n",
    "from rdkit.Chem import Draw\n",
    "\n",
    "mol_list = df[\"ROMol\"].to_list()\n",
    "mol_names = df[\"ID\"].to_list()\n",
    "\n",
    "Draw.MolsToGridImage(mol_list, molsPerRow=5, legends=mol_names)"
   ]
  },
  {
   "cell_type": "markdown",
   "id": "93658175-d5c4-46d9-9fb2-747551b04b51",
   "metadata": {},
   "source": [
    "## Building a Dataset\n",
    "\n",
    "We can add values for some molecular descriptors to our dataframe using the `apply` method in pandas."
   ]
  },
  {
   "cell_type": "code",
   "execution_count": null,
   "id": "80cfd48a-0939-46d6-aa3c-edc827bd8b5a",
   "metadata": {
    "tags": []
   },
   "outputs": [],
   "source": [
    "from rdkit.Chem import Descriptors\n",
    "\n",
    "df[\"MolWt\"] = df[\"ROMol\"].apply(Descriptors.MolWt)\n",
    "df[\"TPSA\"] = df[\"ROMol\"].apply(Descriptors.TPSA)"
   ]
  },
  {
   "cell_type": "code",
   "execution_count": null,
   "id": "cb99b858-8a74-47a1-9dca-7e1b4f103cbb",
   "metadata": {},
   "outputs": [],
   "source": [
    "df.head()"
   ]
  },
  {
   "cell_type": "code",
   "execution_count": null,
   "id": "ce8926f0-a1ff-4fa1-96e5-a5a32a2d4b8c",
   "metadata": {},
   "outputs": [],
   "source": []
  }
 ],
 "metadata": {
  "kernelspec": {
   "display_name": "Python 3 (ipykernel)",
   "language": "python",
   "name": "python3"
  },
  "language_info": {
   "codemirror_mode": {
    "name": "ipython",
    "version": 3
   },
   "file_extension": ".py",
   "mimetype": "text/x-python",
   "name": "python",
   "nbconvert_exporter": "python",
   "pygments_lexer": "ipython3",
   "version": "3.11.0"
  }
 },
 "nbformat": 4,
 "nbformat_minor": 5
}
