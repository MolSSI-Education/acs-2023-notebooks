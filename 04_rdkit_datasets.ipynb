{
 "cells": [
  {
   "cell_type": "code",
   "execution_count": null,
   "id": "87349a02-733f-4916-8acc-ff928dc6fb9d",
   "metadata": {},
   "outputs": [],
   "source": [
    "# apply Jupyter notebook style\n",
    "from IPython.core.display import HTML\n",
    "\n",
    "from custom.styles import style_string\n",
    "\n",
    "HTML(style_string)"
   ]
  },
  {
   "cell_type": "markdown",
   "id": "8f4c7968-6d27-416a-9fe7-8642046a44a8",
   "metadata": {},
   "source": [
    "# Molecular Datasets using RDKit and Pandas\n",
    "\n",
    "<div class=\"overview admonition\"> \n",
    "<p class=\"admonition-title\">Overview</p>\n",
    "\n",
    "Questions:\n",
    "\n",
    "* What are MOL and SDF files?\n",
    "* How can they be used to create Mol objects in RDKit?\n",
    "* How can I work with RDKit molecule objects in a pandas DataFrame?\n",
    "\n",
    "Objectives:\n",
    "\n",
    "* Read a MOL file.\n",
    "* Create Mol objects from MOL and SDF files.\n",
    "    \n",
    "</div>\n",
    "\n",
    "\n",
    "## Creating Mol Objects from Files\n",
    "\n",
    "Mol object instances can be created by a variety of methods.  We've seen some examples of Mol objects being created from SMILES strings, now we'll learn some additional ways an RDKit mol object can be created.\n",
    "\n",
    "Data for any system under investigation that is non-ideal, from real systems in experimental methods to optimized geometries in QM methods, cannot be communicated via a SMILES string.  In these situations, often more detailed specifications are needed, such as an accurate 3D geometry with explicit hydrogens.  Part of the utility of RDKit lies in its ability to create Mol objects using a variety of input formats, so that we can take molecular data from other sources or research processes and generate additional properties and descriptors.\n",
    "\n",
    "Different methods are called for depending on the format of the molecule's specifications, depending on what you're passing passing around, between researchers, applications, or modules.  Two common and versatile formats that we'll cover today are the MOL file and related Structural Data File (SDF)."
   ]
  },
  {
   "cell_type": "code",
   "execution_count": null,
   "id": "410f81da-3c65-4629-8e3a-c491ee125a4a",
   "metadata": {
    "tags": []
   },
   "outputs": [],
   "source": [
    "from rdkit import Chem"
   ]
  },
  {
   "cell_type": "markdown",
   "id": "048d3ffc-978b-41c6-bedb-0f4064ef794b",
   "metadata": {},
   "source": [
    "### Mol from Mol File\n",
    "\n",
    "The MOL file is a format first created by MDL internally and published by [Dalby et al. in 1992](https://pubs.acs.org/doi/10.1021/ci00007a012).  It was created specifically for cheminformatics applications and is the most straightforward way of passing detailed structural data and metadata into RDKit.  The formatting is very precise and adhered to strictly by RDKit, so a link to the original paper has been included above.\n",
    "\n",
    "#### Previewing the File\n",
    "Before loading the file with RDKit, let's use Python to take a look at it."
   ]
  },
  {
   "cell_type": "code",
   "execution_count": null,
   "id": "6b03cacc-5ede-4167-9c70-25d681a94eaf",
   "metadata": {
    "tags": []
   },
   "outputs": [],
   "source": [
    "pro_file = \"data/amino_acids/pro.mol\"\n",
    "\n",
    "with open(pro_file) as file:\n",
    "    print(file.read())"
   ]
  },
  {
   "cell_type": "markdown",
   "id": "83e286c0-529a-4d86-96ee-6b888b3ec869",
   "metadata": {},
   "source": [
    "#### Loading the File\n",
    "\n",
    "To load the file, we can use the `MolFromMolFile` function in RDKit. We add the argument `strictParsing=False` in case there are any slight problems with our mol file"
   ]
  },
  {
   "cell_type": "code",
   "execution_count": null,
   "id": "46008c3f-a407-4ef4-8f3b-270f19733329",
   "metadata": {
    "tags": []
   },
   "outputs": [],
   "source": [
    "pro = Chem.MolFromMolFile(pro_file, strictParsing=False)\n",
    "pro"
   ]
  },
  {
   "cell_type": "markdown",
   "id": "59b2ade8-af72-4917-9198-9d7eecb2c8b1",
   "metadata": {},
   "source": [
    "<div class=\"exercise admonition\">\n",
    "<p class=\"admonition-title\">Check Your Understanding</p>\n",
    "<p> Load and visualize histidine molecule from the mol file provided in `data/amino_acids/his.mol`. </p>\n",
    "    <p><strong>Challenge</strong> - Print the stereochemistry of each molecule. Then, use a substructure search to highlight the amine group on the two amino acids </p>\n",
    "</div>"
   ]
  },
  {
   "cell_type": "code",
   "execution_count": null,
   "id": "c7b0ceac-c2eb-4bb7-9a0e-30d256fadbba",
   "metadata": {
    "tags": []
   },
   "outputs": [],
   "source": []
  },
  {
   "cell_type": "code",
   "execution_count": null,
   "id": "78908288-7ec0-42f4-bd28-201e8cec0024",
   "metadata": {
    "tags": []
   },
   "outputs": [],
   "source": []
  },
  {
   "cell_type": "code",
   "execution_count": null,
   "id": "a09f49ec-a15a-41f5-934b-1b518fba3c87",
   "metadata": {},
   "outputs": [],
   "source": []
  },
  {
   "cell_type": "code",
   "execution_count": null,
   "id": "bb3600e2-2bb9-4cda-99aa-008fdb333912",
   "metadata": {},
   "outputs": [],
   "source": []
  },
  {
   "cell_type": "code",
   "execution_count": null,
   "id": "862bd4a5-a4e6-47dc-b41e-9b0a413021dd",
   "metadata": {
    "tags": []
   },
   "outputs": [],
   "source": []
  },
  {
   "cell_type": "markdown",
   "id": "ed4c375b-bab5-4d11-a0ee-0b51c9868f85",
   "metadata": {},
   "source": [
    "## Mol from SDF\n",
    "\n",
    "An SDF file is a collection of **MOL file** style string blocks separated by a blank line and a line composed of 4 '$' characters.  It's a very convenient way of passing sets of molecules related in some way such as by similarity or research project between users/machines.  Since each molecule's specifications is already in MOL format, creating Mol objects is very straightforward and a list of Mols is created when the file is read.\n",
    "\n",
    "Although there are a few ways to work with SDF files in RDKit, we will highlight just one in this lesson. \n",
    "We will use the RDKit module called `PandasTools` to load all of the molecules from an SDF file into a pandas dataframe.\n",
    "If you have not worked with pandas before or if you need a refresher, see notebook `03_python_data_science.ipynb`.\n",
    "\n",
    "`PandasTools` is a module in `rdkit.Chem` that allows you to easily work with RDKit molecules and pandas dataframes.\n",
    "To use it, we must first import it. \n",
    "Next, we tell rdkit that we want to see our molecules as images in the dataframe by setting `PandasTools.RenderImagesInAllDataFrames(True)`. \n",
    "This is a setting that is set once in the notebook.\n",
    "\n",
    "The `PandasTools.LoadSDF` function loads molecules from an SDF file into a dataframe. "
   ]
  },
  {
   "cell_type": "code",
   "execution_count": null,
   "id": "51483541-95ca-46e8-8efe-d0481dfef002",
   "metadata": {
    "tags": []
   },
   "outputs": [],
   "source": [
    "from rdkit.Chem import PandasTools\n",
    "\n",
    "PandasTools.RenderImagesInAllDataFrames(True)\n",
    "\n",
    "df = PandasTools.LoadSDF(\"data/amino_acids/amino_acids-nat20.sdf\", strictParsing=False)"
   ]
  },
  {
   "cell_type": "code",
   "execution_count": null,
   "id": "9b95a7d9-4944-4da5-a5da-7e8316fba21e",
   "metadata": {
    "tags": []
   },
   "outputs": [],
   "source": [
    "# View the first 3 frames\n",
    "df.head(3)"
   ]
  },
  {
   "cell_type": "markdown",
   "id": "745b0e43-8ddb-41a0-84a7-fb2607fcd455",
   "metadata": {},
   "source": [
    "## Options for loading SDF files\n",
    "\n",
    "The SDF loaded from RDKit supports automatically adding the SMILES string to the dataframe when the data is loaded.\n",
    "We can reload our SDF and get the isomeric SMILES (has stereochemistry information) at load time by adding the option\n",
    "`smilesName='SMILES', isomericSmiles=True` to the function after `strictParsing=False` argument. We can also add a molecular \n",
    "fingerprint to each using the argument `includeFingerprints=True`. This will store a fingerprint on the molecule object\n",
    "and make substructure searches faster.\n",
    "\n",
    "You can see the [documentation for the LoadSDF function](http://rdkit.org/docs/source/rdkit.Chem.PandasTools.html#rdkit.Chem.PandasTools.LoadSDF) for more information.\n",
    "\n",
    "<div class=\"exercise admonition\">\n",
    "<p class=\"admonition-title\">Check Your Understanding</p>\n",
    "\n",
    "    Add the arguments `smilesName=SMILES, isomericSmiles=True` and `includeFingerprints=True` to your `LoadSDF` function. Save your result in the `df`\n",
    "    variable and view the first three rows. How is the dataframe different from the dataframe without the arguments?\n",
    "</div>"
   ]
  },
  {
   "cell_type": "code",
   "execution_count": null,
   "id": "259951a2-1861-44bc-b942-fa5ffcd3b415",
   "metadata": {
    "tags": []
   },
   "outputs": [],
   "source": []
  },
  {
   "cell_type": "code",
   "execution_count": null,
   "id": "1b62e234-7f94-433b-aa7b-775cb78d10d3",
   "metadata": {},
   "outputs": [],
   "source": []
  },
  {
   "cell_type": "code",
   "execution_count": null,
   "id": "17af2733-f288-4e9e-a46e-2fe7939cb6f5",
   "metadata": {},
   "outputs": [],
   "source": []
  },
  {
   "cell_type": "markdown",
   "id": "416dc5b0-8fa1-41d4-bef6-065dfc310f81",
   "metadata": {
    "tags": []
   },
   "source": [
    "\n",
    "<div class=\"attention admonition\"> \n",
    "<p class=\"admonition-title\">Another way to load SDF Files</p>\n",
    "<p> You might also see a list of RDKit molecule objects created using the `SDMolSupplier` function. The syntax to create a list of Mol objects from an SDF file is:</p>\n",
    "\n",
    "\n",
    "```python\n",
    "mol_list = Chem.SDMolSupplier('path/to/file.sdf')\n",
    "```\n",
    "\n",
    "\n",
    "<p>This will create an RDKit `SDMolSupplier` object. If we would like a list of RDKit `mol` objects, we can cast the variable as a list.</p>\n",
    "</div>\n",
    "\n",
    "\n"
   ]
  },
  {
   "cell_type": "markdown",
   "id": "c77b11b5",
   "metadata": {},
   "source": [
    "### Viewing multiple molecules\n",
    "\n",
    "Multiple molecules can be placed in the same image in an array.  To do this, specify the set of molecules to visualize, the number of sub-images per row, and the size of the sub-images.  In the example below, the list of molecule names generated while instantiating the Mol objects is used as a legend. This allows us to view all of the molecules in our data frame at once."
   ]
  },
  {
   "cell_type": "code",
   "execution_count": null,
   "id": "2afc25bf-69a3-43bd-a7b4-64be5562e749",
   "metadata": {
    "tags": []
   },
   "outputs": [],
   "source": [
    "# Visualize the molecules\n",
    "from rdkit.Chem import Draw\n",
    "\n",
    "mol_list = df[\"ROMol\"].to_list()\n",
    "mol_names = df[\"ID\"].to_list()\n",
    "\n",
    "Draw.MolsToGridImage(mol_list, molsPerRow=5, legends=mol_names)"
   ]
  },
  {
   "cell_type": "markdown",
   "id": "4103db4b-d3c5-4dff-9668-76aa858d5d46",
   "metadata": {},
   "source": [
    "### Substructure Searches using pandas\n",
    "\n",
    "When you have a molecule column in a pandas dataframe, you can use `>=` to do substructure searches. \n",
    "The syntax for this is\n",
    "\n",
    "```python\n",
    "df[MOL_COLUMN] >= substructure\n",
    "```\n",
    "\n",
    "This will return a list of `True` or `False` depending on if the substructure is in the molecule or not.\n"
   ]
  },
  {
   "cell_type": "code",
   "execution_count": null,
   "id": "8c79c10a-ff92-4659-9a6e-6a330c89323d",
   "metadata": {
    "tags": []
   },
   "outputs": [],
   "source": [
    "phenyl = Chem.MolFromSmarts(\"c1ccccc1\") # first create the mol from the smarts string\n",
    "phenyl"
   ]
  },
  {
   "cell_type": "code",
   "execution_count": null,
   "id": "36c05a96-07a7-4384-a7c5-2e4f45f518a2",
   "metadata": {
    "tags": []
   },
   "outputs": [],
   "source": [
    "df[\"ROMol\"] >= phenyl"
   ]
  },
  {
   "cell_type": "markdown",
   "id": "5f8570e7-0d5e-4d15-bcec-0d593b39782b",
   "metadata": {},
   "source": [
    "You can use this as a filter to show the molecules that have this substructure."
   ]
  },
  {
   "cell_type": "code",
   "execution_count": null,
   "id": "0375502d-1722-4d44-b79d-4e255e0b85c7",
   "metadata": {
    "tags": []
   },
   "outputs": [],
   "source": [
    "df[df[\"ROMol\"] >= phenyl]"
   ]
  },
  {
   "cell_type": "markdown",
   "id": "36d0961e-2024-4ec8-851d-f8641879d976",
   "metadata": {},
   "source": [
    "<div class=\"exercise admonition\"> \n",
    "<p class=\"admonition-title\">Check Your Understanding</p>\n",
    "<p>Do a substructure for all amino acids that contain a methyl group (SMARTS `[CH3]`)</p>\n",
    "\n",
    "</div>"
   ]
  },
  {
   "cell_type": "code",
   "execution_count": null,
   "id": "4c952085-db65-4869-a84f-7787c109ef53",
   "metadata": {},
   "outputs": [],
   "source": []
  },
  {
   "cell_type": "code",
   "execution_count": null,
   "id": "48cdbd1e-968c-4b36-aabb-a54077fb15e0",
   "metadata": {},
   "outputs": [],
   "source": []
  },
  {
   "cell_type": "markdown",
   "id": "93658175-d5c4-46d9-9fb2-747551b04b51",
   "metadata": {},
   "source": [
    "## Building and Saving a Dataset using pandas\n",
    "\n",
    "We can add values for some molecular descriptors to our dataframe using the `apply` method in pandas.\n",
    "The `apply` method applies the function to every cell in a column. \n",
    "We can then save this as a new column in the dataframe by setting `df[new_column_name]` equal to what is returned."
   ]
  },
  {
   "cell_type": "code",
   "execution_count": null,
   "id": "80cfd48a-0939-46d6-aa3c-edc827bd8b5a",
   "metadata": {
    "tags": []
   },
   "outputs": [],
   "source": [
    "from rdkit.Chem import Descriptors\n",
    "\n",
    "df[\"MolWt\"] = df[\"ROMol\"].apply(Descriptors.MolWt) # Saves a new column called \"MolWt\"\n",
    "df[\"TPSA\"] = df[\"ROMol\"].apply(Descriptors.TPSA) # Saves a new column called TPSA\n",
    "df[\"NumHeavyAtoms\"] = df[\"ROMol\"].apply(Descriptors.HeavyAtomCount)"
   ]
  },
  {
   "cell_type": "code",
   "execution_count": null,
   "id": "cb99b858-8a74-47a1-9dca-7e1b4f103cbb",
   "metadata": {},
   "outputs": [],
   "source": [
    "df.head()"
   ]
  },
  {
   "cell_type": "markdown",
   "id": "79509cf7-edb8-4e9d-9c2f-5d2f463f5421",
   "metadata": {},
   "source": [
    "If we want to save our dataframe so we can load it later, we should have a column that will allow us to reconstruct the RDKit mol\n",
    "objects. We achieved this at load time by adding the SMILES column. \n",
    "If you'd like to save your dataframe as a CSV, you can discard the `ROMol` column. "
   ]
  },
  {
   "cell_type": "code",
   "execution_count": null,
   "id": "73e34472-e5cf-4363-8e1c-de86f27d105b",
   "metadata": {
    "tags": []
   },
   "outputs": [],
   "source": [
    "# drop the mol object column since when we save as a CSV (text file)\n",
    "# molecular information will be lost.\n",
    "\n",
    "df_noMol = df.drop(\"ROMol\", axis=1) # make a new dataframe without the mol column\n",
    "df_noMol.to_csv(\"data/amino_acids.csv\", index=False) # save the dataframe to a file."
   ]
  },
  {
   "cell_type": "markdown",
   "id": "321993a7-8f17-4206-98fe-584e6aba5758",
   "metadata": {},
   "source": [
    "<div class=\"exercise admonition\"> \n",
    "<p class=\"admonition-title\">Exercise</p>\n",
    "<p>You have another SDF in your data folder called 'amino_acids-extended.sdf'. Load this SDF into a dataframe, perform substructure searches, and creat a dataset of molecular descriptors.\n",
    "    </p>\n",
    "\n",
    "</div>"
   ]
  },
  {
   "cell_type": "code",
   "execution_count": null,
   "id": "c329f92a-251d-495c-bd03-6b28d9bc6791",
   "metadata": {},
   "outputs": [],
   "source": []
  },
  {
   "cell_type": "code",
   "execution_count": null,
   "id": "950d257e-88d9-4b67-a590-4731ce939f7a",
   "metadata": {},
   "outputs": [],
   "source": []
  },
  {
   "cell_type": "code",
   "execution_count": null,
   "id": "81ec530a-b161-4a74-b3e3-d22d132e8cb5",
   "metadata": {},
   "outputs": [],
   "source": []
  }
 ],
 "metadata": {
  "kernelspec": {
   "display_name": "Python 3 (ipykernel)",
   "language": "python",
   "name": "python3"
  },
  "language_info": {
   "codemirror_mode": {
    "name": "ipython",
    "version": 3
   },
   "file_extension": ".py",
   "mimetype": "text/x-python",
   "name": "python",
   "nbconvert_exporter": "python",
   "pygments_lexer": "ipython3",
   "version": "3.11.0"
  }
 },
 "nbformat": 4,
 "nbformat_minor": 5
}
