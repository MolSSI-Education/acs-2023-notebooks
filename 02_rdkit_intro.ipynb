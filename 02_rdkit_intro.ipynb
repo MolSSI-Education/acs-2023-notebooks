{
 "cells": [
  {
   "cell_type": "code",
   "execution_count": null,
   "id": "c20abcbf-1e4c-4952-b6c7-1e3c7ed2721a",
   "metadata": {
    "tags": []
   },
   "outputs": [],
   "source": [
    "# apply Jupyter notebook style\n",
    "from IPython.core.display import HTML\n",
    "\n",
    "from custom.styles import style_string\n",
    "\n",
    "HTML(style_string)"
   ]
  },
  {
   "cell_type": "markdown",
   "id": "d9020474",
   "metadata": {},
   "source": [
    "<div style=\"text-align:center;\">\n",
    "  <img src=\"custom/molssi_main_horizontal.png\" style=\"display: block; margin: 0 auto; max-height:200px;\">\n",
    "</div>\n",
    "\n",
    "\n",
    "# Introduction to RDKit\n",
    "\n",
    "<div class=\"overview admonition\"> \n",
    "<p class=\"admonition-title\">Overview</p>\n",
    "\n",
    "Questions:\n",
    "\n",
    "* What is RDKit?\n",
    "\n",
    "* How can I get molecule information in Python?\n",
    "\n",
    "* What is a molecular descriptor?\n",
    "\n",
    "Objectives:\n",
    "\n",
    "* Use RDKit to create molecules in Python\n",
    "\n",
    "</div>\n",
    "\n",
    "There are Python libraries that are made for working just with chemical data. One commonly used library in Python for data science (or cheminformatics) is called [RDKit](https://en.wikipedia.org/wiki/RDKit). RDKit is an open-source cheminformatics library, primarily developed in C++, and was created by [Dr. Greg Landrum](https://scholar.google.com/citations?user=xr9paY0AAAAJ&hl=en) in 2006. We will be using the Python interface to RDKit, though there are interfaces in other languages.\n",
    "\n",
    "The primary goal of RDKit is to facilitate the manipulation of chemical structures, including reading and writing molecular file formats, calculating molecular properties, and performing substructure searches. In addition, it offers a wide range of cheminformatics algorithms such as molecular fingerprint generation, similarity metrics calculation, and molecular descriptor computation. This notebook introduces RDKit basis, but we will see more of all of these topics in later notebooks.\n",
    "\n",
    "Most of this functionality is achieved through the RDKit `mol` object. In this lesson, we will create and manipulate RDKit `mol` objects.\n",
    "\n",
    "We are going to use a part of RDKit called `Chem`. To use `Chem`, we first have to import it. "
   ]
  },
  {
   "cell_type": "code",
   "execution_count": null,
   "id": "afc9bc63",
   "metadata": {
    "tags": []
   },
   "outputs": [],
   "source": [
    "from rdkit import Chem"
   ]
  },
  {
   "cell_type": "markdown",
   "id": "d5b835ad",
   "metadata": {},
   "source": [
    "## Creating Molecules with RDKit\n",
    "\n",
    "To get information about molecules in RDKit, we have to first create variables representing molecules. RDKit has molecule object that can be used to retrieve information or calculate properties. First, the molecule name has to be communicated to RDKit in a way that computers understand. \n",
    "\n",
    "### Creating molecules using SMILES\n",
    "\n",
    "In the last lesson, we learned about molecular representations using SMILES strings. Now we will use SMILES strings to create molecule objects in RDKIT. \n",
    "\n",
    "We can create a representation of methane using RDKit by using the `MolFromSmiles` function in `rdkit.Chem`."
   ]
  },
  {
   "cell_type": "code",
   "execution_count": null,
   "id": "40b29a7c",
   "metadata": {
    "tags": []
   },
   "outputs": [],
   "source": [
    "methane = Chem.MolFromSmiles(\"C\")"
   ]
  },
  {
   "cell_type": "markdown",
   "id": "da5b102b-e997-47b4-8a0d-7cc5befc1b7e",
   "metadata": {},
   "source": [
    "The `methane` variable is now an RDKit \"molecule object\".\n",
    "\n",
    "In a Jupyter environment, putting a variable that is an RDKit molecule as the only or last thing in a cell,\n",
    "will result in a picture of the molecule as an output."
   ]
  },
  {
   "cell_type": "code",
   "execution_count": null,
   "id": "99734c44",
   "metadata": {
    "tags": []
   },
   "outputs": [],
   "source": [
    "methane"
   ]
  },
  {
   "cell_type": "markdown",
   "id": "e98c39d3",
   "metadata": {},
   "source": [
    "<div class=\"exercise admonition\">\n",
    "<p class=\"admonition-title\">Check Your Understanding</p>\n",
    "<p> Create RDKit molecules for the following molecules:\n",
    "<p>\n",
    "    <ul>\n",
    "        <li> Propane\n",
    "        <li> Ethene\n",
    "        <li> Cyclohexane\n",
    "        <li> Benzene\n",
    "    </ul>\n",
    "</p>\n",
    "<p>Create variables for each molecule. The variable names should be the molecule name (all lowercase)</p>\n",
    "</div>\n"
   ]
  },
  {
   "cell_type": "code",
   "execution_count": null,
   "id": "bbae7a92-6647-4361-b5ed-f45363f4d249",
   "metadata": {
    "tags": []
   },
   "outputs": [],
   "source": [
    "# Your answers go here\n",
    "propane = \n",
    "ethene = \n",
    "cyclohexane = \n",
    "benzene = "
   ]
  },
  {
   "cell_type": "code",
   "execution_count": null,
   "id": "395bc20c-bef9-4941-a2f8-fca830baae2b",
   "metadata": {},
   "outputs": [],
   "source": [
    "# Try visualizing your molecules here"
   ]
  },
  {
   "cell_type": "markdown",
   "id": "95ad0cdb",
   "metadata": {},
   "source": [
    "## RDKit and Molecular Properties\n",
    "\n",
    "RDKit will allow us to access molecular properties of the molecules we've created.\n",
    "For example, we can have RDKit tell us the number of atoms in a molecule using the `GetNumAtoms` methods."
   ]
  },
  {
   "cell_type": "code",
   "execution_count": null,
   "id": "e045598b-847c-4d21-a336-f4b6cd7bf0b0",
   "metadata": {
    "tags": []
   },
   "outputs": [],
   "source": [
    "num_methane = methane.GetNumAtoms()\n",
    "print(f\"The number of atoms in methane is {num_methane}\")"
   ]
  },
  {
   "cell_type": "markdown",
   "id": "cc5d6ee6",
   "metadata": {},
   "source": [
    "This isn't exactly what we expect. By default, RDKit only counts \"heavy atoms\". This means that hydrogen isn't included. We can tell RDKit to count hydrogens by adding `onlyExplicit=False` to our `GetNumAtoms` function."
   ]
  },
  {
   "cell_type": "code",
   "execution_count": null,
   "id": "3e94e9f4",
   "metadata": {
    "tags": []
   },
   "outputs": [],
   "source": [
    "num_methane_h = methane.GetNumAtoms(onlyExplicit=False)\n",
    "print(f\"The number of atoms in methane including hydrogens is {num_methane_h}.\")"
   ]
  },
  {
   "cell_type": "markdown",
   "id": "5e78625d",
   "metadata": {},
   "source": [
    "We can also get information about atoms or  bonds from RDKit molecules. We can use the `GetAtoms()` function, then use a loop to look at t`for` loop to look at the atoms."
   ]
  },
  {
   "cell_type": "code",
   "execution_count": null,
   "id": "6bf913ea",
   "metadata": {
    "tags": []
   },
   "outputs": [],
   "source": [
    "ethanol = Chem.MolFromSmiles(\"CCO\")\n",
    "\n",
    "for atom in ethanol.GetAtoms():\n",
    "    print(atom.GetSymbol(), atom.GetMass())"
   ]
  },
  {
   "cell_type": "markdown",
   "id": "e14d40c2",
   "metadata": {},
   "source": [
    "Like the previous example, the molecule does not have hydrogens by default.\n",
    "If you need to work with the hydrogens, you can use a function to add them called `AddHs`.\n",
    "Now, when we look through the atoms, we get the hydrogens as well."
   ]
  },
  {
   "cell_type": "code",
   "execution_count": null,
   "id": "107fe76e",
   "metadata": {},
   "outputs": [],
   "source": [
    "ethanol_h = Chem.AddHs(ethanol)\n",
    "\n",
    "ethanol_h"
   ]
  },
  {
   "cell_type": "code",
   "execution_count": null,
   "id": "a96a43e9",
   "metadata": {},
   "outputs": [],
   "source": [
    "for atom in ethanol_h.GetAtoms():\n",
    "    print(atom.GetSymbol())"
   ]
  },
  {
   "cell_type": "markdown",
   "id": "d6dc6fb9",
   "metadata": {},
   "source": [
    "You can use the `GetBonds` method to get the bonds in a molecule."
   ]
  },
  {
   "cell_type": "code",
   "execution_count": null,
   "id": "371244ad",
   "metadata": {},
   "outputs": [],
   "source": [
    "for bond in ethanol.GetBonds():\n",
    "    print(bond.GetBondType())"
   ]
  },
  {
   "cell_type": "markdown",
   "id": "b39599a7",
   "metadata": {},
   "source": [
    "## RDKit and Molecular Descriptors\n",
    "\n",
    "A molecular descriptor is a numerical value or a set of values that represent specific structural or chemical features of a molecule. Molecular descriptors are based on molecular structure and allow statistical analysis and similarity measurements on molecules.\n",
    "\n",
    "RDKit supports the calculation of many molecular descriptors. You can see a [full list of RDKit descriptors](https://www.rdkit.org/docs/GettingStartedInPython.html#list-of-available-descriptors) or [see the module documentation](https://www.rdkit.org/docs/source/rdkit.Chem.Descriptors.html).\n",
    "\n",
    "To get molecular descriptors from RDKit, we import the `Descriptors` module.\n",
    "\n",
    "```python\n",
    "from rdkit.Chem import Descriptors\n",
    "```\n",
    "\n",
    "To get a descriptor, you do\n",
    "\n",
    "```python\n",
    "Descriptors.descriptor_name(molecule_variable)\n",
    "\n",
    "```\n",
    "\n",
    "RDKit supports a number of molecular descriptors, a list of which is given below, along with the RDKit method for the property.\n",
    "\n",
    "\n",
    "Name of Property      | Name of RDKit Descriptor Function\n",
    "----------------------|-----------------------------------|\n",
    "molecular weight      | Descriptors.MolWt\n",
    "number of heavy atoms | Descriptors.HeavyAtomCount\n",
    "number of H-bond donors| Descriptors.NumHDonors\n",
    "number of H-bond donors| Descriptors.NumHAcceptors\n",
    "octanol-water partition coefficient| Descriptors.MolLogP\n",
    "topological polar surface area | Descriptors.TPSA\n",
    "number of rotatable bonds      | Descriptors.NumRotatableBonds\n",
    "number of aromatic rings       | Descriptors.NumAromaticRings\n",
    "number of aliphatic rings      | Descriptors.NumAliphaticRings\n",
    "\n"
   ]
  },
  {
   "cell_type": "code",
   "execution_count": null,
   "id": "3d8d3ac3",
   "metadata": {
    "tags": []
   },
   "outputs": [],
   "source": [
    "from rdkit.Chem import Descriptors"
   ]
  },
  {
   "cell_type": "code",
   "execution_count": null,
   "id": "f3ed7282",
   "metadata": {
    "tags": []
   },
   "outputs": [],
   "source": [
    "print(\"Printing info for methane:\")\n",
    "print(f\"The molecular weight is {Descriptors.MolWt(methane)}\")\n",
    "print(f\"The number of aromatic rings is {Descriptors.NumAromaticRings(methane)}\")\n"
   ]
  },
  {
   "cell_type": "markdown",
   "id": "02f13392-9307-4398-8f31-c23b6f5faa60",
   "metadata": {},
   "source": [
    "<div class=\"exercise admonition\">\n",
    "<p class=\"admonition-title\">Check Your Understanding</p>\n",
    "<p> Exercise\n",
    "<p>\n",
    "    Paragraph 2\n",
    "</p>\n",
    "</div>\n"
   ]
  },
  {
   "cell_type": "markdown",
   "id": "8a5be400",
   "metadata": {},
   "source": [
    "## RDKit and Stereochemistry\n",
    "\n",
    "RDKit can be used to find chiral centers and print stereochemistry information about molecules. Consider 2-chlorobutane, created below.\n",
    "We are using a canonical SMILES which does not include stereo center information."
   ]
  },
  {
   "cell_type": "code",
   "execution_count": null,
   "id": "f05c1617-9d2f-4f83-b151-2d15aa8168c3",
   "metadata": {
    "tags": []
   },
   "outputs": [],
   "source": [
    "chlorobutane = Chem.MolFromSmiles(\"CCC(C)Cl\")\n",
    "chlorobutane"
   ]
  },
  {
   "cell_type": "markdown",
   "id": "60375660-0e25-49ef-aa16-1c89637018f9",
   "metadata": {},
   "source": [
    "However, RDKit can analyze the molecule and tell us about the number of chiral centers."
   ]
  },
  {
   "cell_type": "code",
   "execution_count": null,
   "id": "b091f596",
   "metadata": {},
   "outputs": [],
   "source": [
    "# Can tell us how many stereocenters\n",
    "Chem.rdMolDescriptors.CalcNumAtomStereoCenters(chlorobutane)"
   ]
  },
  {
   "cell_type": "markdown",
   "id": "1d9c32b8-0ab1-4348-a5c3-6d81144706f7",
   "metadata": {},
   "source": [
    "We can also retrieve the atom indices of the chiral centers and see their orientation.\n",
    "If the orientation was not specified, RDKit will list it as `?`. \n",
    "We also have to tell RDKit to tell us about unassigned chiral centers using\n",
    "`includeUnassigned=True`."
   ]
  },
  {
   "cell_type": "code",
   "execution_count": null,
   "id": "9e2c4e5a-4f1b-4e88-aeaf-6b3585088e2b",
   "metadata": {
    "tags": []
   },
   "outputs": [],
   "source": [
    "# Can tell us the atom number and the orientation\n",
    "print(Chem.FindMolChiralCenters(chlorobutane, includeUnassigned=True))"
   ]
  },
  {
   "cell_type": "markdown",
   "id": "ea1457c4-0a0c-439f-aa99-a07e8cfea28e",
   "metadata": {},
   "source": [
    "### Visualizing Chiral Centers"
   ]
  },
  {
   "cell_type": "code",
   "execution_count": null,
   "id": "bd9b2525-7250-4b11-a5bf-f862968f4b7a",
   "metadata": {
    "tags": []
   },
   "outputs": [],
   "source": [
    "from rdkit.Chem import Draw\n",
    "\n",
    "chiral_centers = []\n",
    "for center in Chem.FindMolChiralCenters(chlorobutane, includeUnassigned=True):\n",
    "    chiral_centers.append(center[0])\n",
    "\n",
    "Draw.MolToImage(chlorobutane, highlightAtoms=chiral_centers)"
   ]
  },
  {
   "cell_type": "markdown",
   "id": "b9c43cdd-b9ca-49e1-8fd3-520bb4ed4aa2",
   "metadata": {},
   "source": [
    "<div class=\"exercise admonition\">\n",
    "<p class=\"admonition-title\">Exercise</p>\n",
    "    <p> Create a molecule using the SMILES string C1[C@@H](Cl)[C@H](Cl)CCC1. Print the stereochemistry information and\n",
    "        create a visualization highlighting the stereocenters.</p>\n",
    "</div>"
   ]
  },
  {
   "cell_type": "code",
   "execution_count": null,
   "id": "23991157-3516-448f-8159-9d777beab358",
   "metadata": {},
   "outputs": [],
   "source": []
  },
  {
   "cell_type": "code",
   "execution_count": null,
   "id": "31444b0f-a345-4b58-b720-6fcd6166f6bb",
   "metadata": {},
   "outputs": [],
   "source": []
  },
  {
   "cell_type": "markdown",
   "id": "e976bbd5-a457-46cc-8196-d6da501b2aaf",
   "metadata": {},
   "source": [
    "## RDKit and Molecular Similarity\n",
    "\n",
    "### Substructure Searches\n",
    "\n",
    "RDKit can be used to search molecules for substructures. \n",
    "You can define your own substructures using SMILES. \n",
    "For example, we'll first look for carbons in caffeine."
   ]
  },
  {
   "cell_type": "code",
   "execution_count": null,
   "id": "6da72486-c3b4-4bbe-9613-2985090d8b91",
   "metadata": {
    "tags": []
   },
   "outputs": [],
   "source": [
    "caffeine = Chem.MolFromSmiles('CN1C=NC2=C1C(=O)N(C(=O)N2C)C')\n",
    "carbon = Chem.MolFromSmiles('C')\n",
    "\n",
    "matches = caffeine.GetSubstructMatches(carbon)\n",
    "\n",
    "caffeine"
   ]
  },
  {
   "cell_type": "markdown",
   "id": "e3027482-0ffd-4124-9a07-d7a9fde69f77",
   "metadata": {},
   "source": [
    "In this example, you can see that all of the carbons are highlighted. \n",
    "\n",
    "The code `matches = caffeine.GetSubstructMatches(carbon)` will highlight all of the carbons in the caffeine molecule because it is searching for a specific substructure, which in this case is just a single carbon atom.\n",
    "\n",
    "But, what if we just wanted to highlight the methyl groups? We would have to use a different strategy for substructure matching.\n",
    "\n",
    "#### SMARTS Strings\n",
    "A [SMARTS (SMiles ARbitrary Target Specification)](https://en.wikipedia.org/wiki/SMILES_arbitrary_target_specification) string is a pattern-matching language for specifying substructures in molecules. It is similar to SMILES but has additional features for specifying atom and bond properties. In contrast to SMILES, SMARTS allows for specifying substructures based on patterns of atoms and bonds, rather than just specifying the exact arrangement of atoms and bonds in a molecule.\n",
    "\n",
    "In this case, we want to highlight the methyl group in caffeine, which contains a single carbon atom bonded to three hydrogen atoms. We can use a SMARTS string to define this substructure as `[CH3]`, which represents a carbon atom with three hydrogen atoms bonded to it.\n",
    "\n",
    "Using a SMARTS string is necessary in this case because simply searching for a single carbon atom with the code `carbon = Chem.MolFromSmiles('C')` would highlight all carbons in the molecule, not just the methyl group. By using a SMARTS string, we can specify the exact substructure we want to highlight and avoid highlighting unintended parts of the molecule."
   ]
  },
  {
   "cell_type": "code",
   "execution_count": null,
   "id": "65d9212b-1b66-4c23-8314-2b9b10c7b817",
   "metadata": {
    "tags": []
   },
   "outputs": [],
   "source": [
    "caffeine = Chem.MolFromSmiles('CN1C=NC2=C1C(=O)N(C(=O)N2C)C')\n",
    "methyl_pattern = Chem.MolFromSmarts('[CH3]')\n",
    "\n",
    "# Get the indices of the matching atoms\n",
    "matches = caffeine.GetSubstructMatches(methyl_pattern)\n",
    "caffeine"
   ]
  },
  {
   "cell_type": "markdown",
   "id": "d4d29c59-6587-4ad1-adba-907ff11c631a",
   "metadata": {},
   "source": [
    "You can see a list of SMARTS strings for different functional groups [at this link](https://www.daylight.com/dayhtml_tutorials/languages/smarts/smarts_examples.html)."
   ]
  },
  {
   "cell_type": "markdown",
   "id": "4acb103b-f24b-4276-901b-a6f2e35e180b",
   "metadata": {},
   "source": [
    "<div class=\"exercise admonition\">\n",
    "<p class=\"admonition-title\">Exercise</p>\n",
    "    <p>Create an RDKit molecule object for aspirin (acetylsalicylic acid) using its SMILES string \"CC(=O)OC1=CC=CC=C1C(=O)O\".</p>\n",
    "    <p>Visualize the molecule, highlighting any carboxyl groups (COOH) in the structure. Use a SMARTS string to define the carboxyl group substructure.</p>\n",
    "</div>"
   ]
  },
  {
   "cell_type": "code",
   "execution_count": null,
   "id": "6f6cb000-46b0-4f79-be3a-c26c6d7ee823",
   "metadata": {},
   "outputs": [],
   "source": []
  },
  {
   "cell_type": "code",
   "execution_count": null,
   "id": "124b129d",
   "metadata": {},
   "outputs": [],
   "source": []
  }
 ],
 "metadata": {
  "kernelspec": {
   "display_name": "Python 3 (ipykernel)",
   "language": "python",
   "name": "python3"
  },
  "language_info": {
   "codemirror_mode": {
    "name": "ipython",
    "version": 3
   },
   "file_extension": ".py",
   "mimetype": "text/x-python",
   "name": "python",
   "nbconvert_exporter": "python",
   "pygments_lexer": "ipython3",
   "version": "3.11.0"
  },
  "vscode": {
   "interpreter": {
    "hash": "16d4a7bb199d969b1271ebe46f77414b0d9cd01b3c3983c2b2742fc6cd4503d3"
   }
  }
 },
 "nbformat": 4,
 "nbformat_minor": 5
}
