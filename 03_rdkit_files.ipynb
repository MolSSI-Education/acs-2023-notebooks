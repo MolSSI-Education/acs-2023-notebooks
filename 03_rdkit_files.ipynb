{
 "cells": [
  {
   "cell_type": "code",
   "execution_count": null,
   "id": "87349a02-733f-4916-8acc-ff928dc6fb9d",
   "metadata": {},
   "outputs": [],
   "source": [
    "# apply Jupyter notebook style\n",
    "from IPython.core.display import HTML\n",
    "\n",
    "from custom.styles import style_string\n",
    "\n",
    "HTML(style_string)"
   ]
  },
  {
   "cell_type": "markdown",
   "id": "8f4c7968-6d27-416a-9fe7-8642046a44a8",
   "metadata": {},
   "source": [
    "\n",
    "# Molecules from file using RDKit\n",
    "\n",
    "<div class=\"overview admonition\"> \n",
    "<p class=\"admonition-title\">Overview</p>\n",
    "\n",
    "Questions:\n",
    "\n",
    "* What are MOL and SDF files?\n",
    "* How can they be used to create Mol objects in RDKit?\n",
    "* What is sanitization, and how is it modified?\n",
    "\n",
    "Objectives:\n",
    "\n",
    "* Read a MOL file.\n",
    "* Create Mol objects from MOL and SDF files.\n",
    "* Carry out a partial sanitization of a Mol object to preserve molecular features.\n",
    "\n",
    "</div>\n",
    "\n",
    "\n",
    "<div class=\"attention admonition\"> \n",
    "<p class=\"admonition-title\">Overview</p>\n",
    "\n",
    "<p>Note about RDKit objects: RDKit syntax can be unusual and it's important to remember that although there is a Python interface for it, its objects and core functionality are written in C++.  Because of the way the Python and C++ are bound together, returned objects must sometimes go through an additional conversion step after using RDKit function if we want the data available as a list.</p>\n",
    "\n",
    "</div>\n",
    "\n",
    "\n",
    "\n",
    "## Creating Mol Objects from Files\n",
    "\n",
    "Mol object instances can be created by a variety of methods.  We've seen some examples of Mol objects being created from SMILES strings, now we'll learn some additional ways a Mol can be created.\n",
    "\n",
    "Data for any system under investigation that is non-ideal, from real systems in experimental methods to optimized geometries in QM methods, cannot be communicated via a smile string.  In these situations, often more detailed specifications are needed, such as an accurate 3D geometry with explicit hydrogens.  Part of the utility of RDKit lies in its ability to create Mol objects using a variety of input formats, so that we can take molecular data from other sources or research processes and generate additional properties and descriptors.\n",
    "\n",
    "Different methods are called for depending on the format of the molecule's specifications, depending on what you're passing passing around, between researchers, applications, or modules.  Two common and versatile formats that we'll cover today are the MOL file and related Structural Data File (SDF)."
   ]
  },
  {
   "cell_type": "code",
   "execution_count": null,
   "id": "410f81da-3c65-4629-8e3a-c491ee125a4a",
   "metadata": {
    "tags": []
   },
   "outputs": [],
   "source": [
    "from rdkit import Chem\n",
    "from rdkit.Chem import AllChem\n",
    "from rdkit.Chem import Draw\n",
    "from rdkit.Chem.Draw import IPythonConsole"
   ]
  },
  {
   "cell_type": "markdown",
   "id": "048d3ffc-978b-41c6-bedb-0f4064ef794b",
   "metadata": {},
   "source": [
    "### Mol from Mol File\n",
    "\n",
    "The MOL file is a format first created by MDL internally and published by [Dalby et al. in 1992](https://pubs.acs.org/doi/10.1021/ci00007a012).  It was created specifically for cheminformatics applications and is the most straightforward way of passing detailed structural data and metadata into RDKit.  The formatting is very precise and adhered to strictly by RDKit, so a link to the original paper has been included above.\n",
    "\n",
    "#### Previewing the File\n",
    "Before loading the file with RDKit, let's use Python to take a look at it."
   ]
  },
  {
   "cell_type": "code",
   "execution_count": null,
   "id": "6b03cacc-5ede-4167-9c70-25d681a94eaf",
   "metadata": {
    "tags": []
   },
   "outputs": [],
   "source": [
    "pro_file = \"data/amino_acids/pro.mol\"\n",
    "\n",
    "with open(pro_file) as file:\n",
    "    print(file.read())"
   ]
  },
  {
   "cell_type": "markdown",
   "id": "83e286c0-529a-4d86-96ee-6b888b3ec869",
   "metadata": {},
   "source": [
    "#### Loading the File\n",
    "\n",
    "To load the file, we can use the `MolFromMolFile` function in RDKit. We add the argument `strictParsing=False` in case there are any slight problems with our mol file"
   ]
  },
  {
   "cell_type": "code",
   "execution_count": null,
   "id": "46008c3f-a407-4ef4-8f3b-270f19733329",
   "metadata": {
    "tags": []
   },
   "outputs": [],
   "source": [
    "pro = Chem.MolFromMolFile(pro_file, strictParsing=False)\n",
    "pro"
   ]
  },
  {
   "cell_type": "markdown",
   "id": "0ea2d59a-fb4e-4bca-b9e2-f615520751c5",
   "metadata": {
    "tags": []
   },
   "source": [
    "Some information from the Mol file such as the molecule name and references are stored in the RDKit molecule object.\n",
    "For example, the first 3 lines in the MOL file are the name followed by any reference information.  The Mol object RDKit creates will store this data under the **private properties** \"_Name\" and \"_MolFileInfo\".  All of the built-in private properties can be accessed with the syntax:\n",
    "\n",
    "```python\n",
    "mol = Mol    # create an instance of a Mol Object\n",
    "rdk_properties = mol.GetPropNames(includePrivate=True)   \n",
    "rdk_properties_list = list(rdk_properties)\n",
    "print(rdk_property_list)\n",
    "```\n",
    "\n",
    "The remaining lines until 'M  END' are the structural data for the molecule, beginning with the counts line followed by the coordinates and then the connectivity.  There can be additional metadata after the connectivity, but that is beyond the scope of this lesson."
   ]
  },
  {
   "cell_type": "code",
   "execution_count": null,
   "id": "c60bed99-8d72-406c-ac89-73ecdf0fab8e",
   "metadata": {},
   "outputs": [],
   "source": []
  },
  {
   "cell_type": "markdown",
   "id": "ed4c375b-bab5-4d11-a0ee-0b51c9868f85",
   "metadata": {},
   "source": [
    "## Mol from SDF\n",
    "\n",
    "An SDF file is a collection of **MOL file** style string blocks separated by a blank line and a line composed of 4 '$' characters.  It's a very convenient way of passing sets of molecules related in some way such as by similarity or research project between users/machines.  Since each molecule's specifications is already in MOL format, creating Mol objects is very straightforward and a list of Mols is created when the file is read.\n",
    "\n",
    "The syntax to create a list of Mol objects from an SDF file is:\n",
    "\n",
    "```python\n",
    "mol_list = Chem.SDMolSupplier('path/to/file.sdf')\n",
    "```\n",
    "\n",
    "This will create an RDKit `SDMolSupplier` object. If we would like a list of RDKit `mol` objects, we can cast the variable as a list."
   ]
  },
  {
   "cell_type": "code",
   "execution_count": null,
   "id": "51483541-95ca-46e8-8efe-d0481dfef002",
   "metadata": {
    "tags": []
   },
   "outputs": [],
   "source": [
    "nat20_sdf = Chem.SDMolSupplier(\n",
    "    \"data/amino_acids/amino_acids-nat20.sdf\", \n",
    "    sanitize=False, \n",
    "    removeHs=False, \n",
    "    strictParsing=False\n",
    ")\n",
    "\n",
    "# Make a list of the molecule names, instantiate the Mol objects belonging to the SDF supplier\n",
    "mol_list = []\n",
    "for mol in nat20_sdf:\n",
    "    mol_name = mol.GetProp('_Name')\n",
    "    mol_list += [mol_name]"
   ]
  },
  {
   "cell_type": "markdown",
   "id": "c77b11b5",
   "metadata": {},
   "source": [
    "### Viewing multiple molecules\n",
    "\n",
    "Multiple molecules can be placed in the same image in an array.  To do this, specify the set of molecules to visualize, the number of sub-images per row, and the size of the sub-images.  In the example below, the list of molecule names generated while instantiating the Mol objects is used as a legend."
   ]
  },
  {
   "cell_type": "code",
   "execution_count": null,
   "id": "2afc25bf-69a3-43bd-a7b4-64be5562e749",
   "metadata": {
    "tags": []
   },
   "outputs": [],
   "source": [
    "# Visualize the molecules\n",
    "Draw.MolsToGridImage(nat20_sdf,molsPerRow=5,subImgSize=(200,200), legends=mol_list)"
   ]
  },
  {
   "cell_type": "markdown",
   "id": "3736a742-e975-498c-b630-12e5258d45b0",
   "metadata": {},
   "source": [
    "## Molecule Sanitization\n",
    "\n",
    "Sanitization in RDKit is a process in which RDKit uses the molecular connectivity graph and element list to predict certain molecular features in a standardized way.  These properties include finding radicals or charged atoms, determining aromaticity, VSEPR hybridization, degree of conjugation, etc.  This process can also be used to find common problems in a hypothetical molecule, such as a hyperconjugated carbon.\n",
    "\n",
    "Working with SMILES strings or MOL files, sanitization can largely be ignored and allowed to process by its default parameters, however there are a few cases in which one may wish to control the sanitization steps more explicitly.  For example, full sanitization of aromatic heterocycles such as the imidazole ring in Histidine(His) or the indole in Tryptophan(Trp) will cause RDKit to miss the aromaticity of these rings.\n",
    "\n",
    "For a list of sanitization flags, see the [rdmolops module](https://www.rdkit.org/docs/source/rdkit.Chem.rdmolops.html) in the RDKit documentation.\n",
    "\n",
    "To set the sanitization, the flags are passed to a variable and concatenated by means of a bitwise OR function, which is then passed along with the molecule to the **sanitize** function as parameters.  The syntax is as follows:\n",
    "    \n",
    "    s_flags = Chem.rdmolops.SanitizeFlags.[FLAG1]|Chem.rdmolops.SanitizeFlags.[FLAG2]|...\n",
    "    Chem.SanitizeMol(mol, sanitizeOps=s_flags, ...)\n",
    "    \n",
    "When we created the amino acid molecules from the SDF file, sanitization was turned off.  Below is an example of a limited sanitization that preserves the aromaticity of the heterocycles."
   ]
  },
  {
   "cell_type": "code",
   "execution_count": null,
   "id": "79738a6e",
   "metadata": {},
   "outputs": [],
   "source": [
    "# Set flags for a limited sanitization (full sanitization results in bad aromaticity detection).\n",
    "s_flags = Chem.rdmolops.SanitizeFlags.SANITIZE_CLEANUP|Chem.rdmolops.SanitizeFlags.SANITIZE_FINDRADICALS|Chem.rdmolops.SanitizeFlags.SANITIZE_CLEANUPCHIRALITY|Chem.rdmolops.SanitizeFlags.SANITIZE_PROPERTIES|Chem.rdmolops.SanitizeFlags.SANITIZE_ADJUSTHS|Chem.rdmolops.SanitizeFlags.SANITIZE_SETHYBRIDIZATION\n",
    "\n",
    "for mol in nat20_sdf:\n",
    "    Chem.SanitizeMol(mol, sanitizeOps=s_flags)"
   ]
  }
 ],
 "metadata": {
  "kernelspec": {
   "display_name": "Python 3 (ipykernel)",
   "language": "python",
   "name": "python3"
  },
  "language_info": {
   "codemirror_mode": {
    "name": "ipython",
    "version": 3
   },
   "file_extension": ".py",
   "mimetype": "text/x-python",
   "name": "python",
   "nbconvert_exporter": "python",
   "pygments_lexer": "ipython3",
   "version": "3.10.6"
  }
 },
 "nbformat": 4,
 "nbformat_minor": 5
}
