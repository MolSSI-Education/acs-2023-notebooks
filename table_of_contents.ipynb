{
 "cells": [
  {
   "cell_type": "code",
   "execution_count": 1,
   "id": "aa6303ce-7ded-49de-a863-5e1258f82cd8",
   "metadata": {
    "tags": []
   },
   "outputs": [
    {
     "data": {
      "text/html": [
       "\n",
       " <meta charset=\"utf-8\" />\n",
       "    <meta name=\"viewport\" content=\"width=device-width, initial-scale=1.0\" /><meta name=\"generator\" content=\"Docutils 0.19: https://docutils.sourceforge.io/\" />\n",
       "\n",
       "    <link rel=\"stylesheet\" type=\"text/css\" href=\"custom/custom.css\" />\n"
      ],
      "text/plain": [
       "<IPython.core.display.HTML object>"
      ]
     },
     "execution_count": 1,
     "metadata": {},
     "output_type": "execute_result"
    }
   ],
   "source": [
    "# apply Jupyter notebook style\n",
    "from IPython.core.display import HTML\n",
    "\n",
    "from custom.styles import style_string\n",
    "\n",
    "HTML(style_string)\n"
   ]
  },
  {
   "cell_type": "markdown",
   "id": "fa186ad3-0eeb-46f2-903a-6941bd9796f0",
   "metadata": {
    "tags": []
   },
   "source": [
    "<div style=\"text-align:center;\">\n",
    "  <img src=\"custom/molssi_main_horizontal.png\" style=\"display: block; margin: 0 auto; max-height:200px;\">\n",
    "</div>\n",
    "\n",
    "# Python for Data Science in Chemistry\n",
    "\n",
    "<div class=\"day-overview admonition\"> \n",
    "<p class=\"admonition-title\">Table of Contents</p>\n",
    "\n",
    "0. [Notebook 0: Python Introduction](00-python-basics.ipynb)\n",
    "1. [Notebook 1: Digital Representation of Molecules](01_molecule_representation.ipynb)\n",
    "2. [Notebook 2: Introduction to RDKit](02_rdkit_intro.ipynb)\n",
    "3. [Notebook 3: Python Data Science Libraries - Pandas and Seaborn](03_python_data_science.ipynb)\n",
    "4. [Notebook 4: Introduction to Data Fitting with SciKitLearn](04_sklearn_fitting.ipynb)\n",
    "5. [Notebook 4: Challenge - Fitting the ESOL Model](05_fitting-esol.ipynb)\n",
    "7. [Notebook 6: Chemical Data Sources and Programmatic Retrieval of Information](06_chem_data_APIs.ipynb)\n",
    "\n",
    "</div>\n"
   ]
  },
  {
   "cell_type": "code",
   "execution_count": null,
   "id": "db194a6b-24c0-49e0-b3b0-e37b28bab0d8",
   "metadata": {},
   "outputs": [],
   "source": []
  }
 ],
 "metadata": {
  "kernelspec": {
   "display_name": "Python 3 (ipykernel)",
   "language": "python",
   "name": "python3"
  },
  "language_info": {
   "codemirror_mode": {
    "name": "ipython",
    "version": 3
   },
   "file_extension": ".py",
   "mimetype": "text/x-python",
   "name": "python",
   "nbconvert_exporter": "python",
   "pygments_lexer": "ipython3",
   "version": "3.10.12"
  }
 },
 "nbformat": 4,
 "nbformat_minor": 5
}
