{
 "cells": [
  {
   "cell_type": "markdown",
   "id": "ee7de1be-ef48-4717-9f79-b1325298d5a1",
   "metadata": {},
   "source": [
    "# Python Data Science Libraries"
   ]
  },
  {
   "cell_type": "code",
   "execution_count": null,
   "id": "59f50fb2-9efd-461f-953e-205f96385f14",
   "metadata": {},
   "outputs": [],
   "source": []
  }
 ],
 "metadata": {
  "kernelspec": {
   "display_name": "Python 3 (ipykernel)",
   "language": "python",
   "name": "python3"
  },
  "language_info": {
   "codemirror_mode": {
    "name": "ipython",
    "version": 3
   },
   "file_extension": ".py",
   "mimetype": "text/x-python",
   "name": "python",
   "nbconvert_exporter": "python",
   "pygments_lexer": "ipython3",
   "version": "3.11.0"
  }
 },
 "nbformat": 4,
 "nbformat_minor": 5
}
