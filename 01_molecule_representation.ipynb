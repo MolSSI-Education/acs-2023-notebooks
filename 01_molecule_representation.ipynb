{
 "cells": [
  {
   "cell_type": "code",
   "execution_count": 1,
   "id": "eca8984d-58dc-4a09-88ec-41605642eaa2",
   "metadata": {
    "tags": []
   },
   "outputs": [
    {
     "data": {
      "text/html": [
       "\n",
       " <meta charset=\"utf-8\" />\n",
       "    <meta name=\"viewport\" content=\"width=device-width, initial-scale=1.0\" /><meta name=\"generator\" content=\"Docutils 0.19: https://docutils.sourceforge.io/\" />\n",
       "\n",
       "    <link rel=\"stylesheet\" type=\"text/css\" href=\"custom/custom.css\" />\n"
      ],
      "text/plain": [
       "<IPython.core.display.HTML object>"
      ]
     },
     "execution_count": 1,
     "metadata": {},
     "output_type": "execute_result"
    }
   ],
   "source": [
    "# apply Jupyter notebook style\n",
    "from IPython.core.display import HTML\n",
    "\n",
    "from custom.styles import style_string\n",
    "\n",
    "HTML(style_string)"
   ]
  },
  {
   "cell_type": "markdown",
   "id": "6ead2fd2-c4c5-4f2f-9de6-a1a975c1011c",
   "metadata": {
    "tags": []
   },
   "source": [
    "<div style=\"text-align:center;\">\n",
    "  <img src=\"custom/molssi_main_horizontal.png\" style=\"display: block; margin: 0 auto; max-height:200px;\">\n",
    "</div>\n",
    "\n",
    "\n",
    "# Digital Representation of Molecules\n",
    "\n",
    "<div class=\"overview admonition\"> \n",
    "<p class=\"admonition-title\">Overview</p>\n",
    "\n",
    "Questions:\n",
    "\n",
    "* How are molecules represented on computers?\n",
    "\n",
    "* What is a SMILES string?\n",
    "    \n",
    "* What are common molecular file formats?\n",
    "\n",
    "Objectives:\n",
    "\n",
    "* Convert molecules from chemical formula and structures to SMILES strings.\n",
    "\n",
    "</div>\n",
    "\n",
    "In order to work with molecules in a programmatically, we have to be able to represent them on computers.\n",
    "This can be acheived many ways. \n",
    "One way is through something called a SMILES string.\n",
    "There are also file formats that represent molecules.\n",
    "Examples of file formats include ``pdb``, ``mol``, ``mol2``, ``cif``, and ``mmcif``."
   ]
  },
  {
   "cell_type": "markdown",
   "id": "1a20ce5f-0392-40be-a64f-006929d49a5a",
   "metadata": {},
   "source": [
    "## SMILES Strings\n",
    "\n",
    "SMILES stands for \"Simplified Molecular-Input Line-Entry System\" and is a way to represent molecules as a string of characters.\n",
    "\n",
    "You can read more about SMILES at [this tutorial](https://archive.epa.gov/med/med_archive_03/web/html/smiles.html), but rules for atoms and bonds are also repeated below.\n",
    "\n",
    "### Atoms\n",
    "SMILES supports all elements in the periodic table. An atom is represented using its respective atomic symbol. Upper case letters refer to non-aromatic atoms; lower case letters refer to aromatic atoms. If the atomic symbol has more than one letter the second letter must be lower case.\n",
    "\n",
    "### Bonds\n",
    "```\n",
    "-\tSingle bond\n",
    "=\tDouble bond\n",
    "#\tTriple bond\n",
    "*\tAromatic bond\n",
    ".\tDisconnected structures\n",
    "```\n",
    "Single bonds are the default and therefore need not be entered. For example, 'CC' would mean that there is a non-aromatic carbon attached to another non-aromatic carbon by a single bond, and the computer would identify the structure as the chemical ethane. It is also assumed that the bond between two lower case atom symbols is aromatic. A blank terminates the SMILES string.\n",
    "\n",
    "### Branches\n",
    "\n",
    "A branch from a chain is specified by placing the SMILES symbol(s) for the branch between parenthesis. Some examples:\n",
    "\n",
    "```\n",
    "\n",
    "CC(O)C\t2-Propanol\n",
    "CC(=O)C\t2-Propanone\n",
    "CC(CC)C\t2-Methylbutane\n",
    "CC(C)CC(=O)\t2-Methylbutanal\n",
    "c1c(N(=O)=O)cccc1\tNitrobenzene\n",
    "CC(C)(C)CC\t2,2-Dimethylbutane\n",
    "```\n",
    "\n",
    "Most of the time, you will not need to write a SMILES string by hand. You will be able to look up a molecule's SMILES string from a web database like [PubChem](https://pubchem.ncbi.nlm.nih.gov/).\n",
    "\n",
    "You can also use tools like this [molecule sketcher](https://pubchem.ncbi.nlm.nih.gov//edit3/index.html) to draw molecules and get their SMILES strings."
   ]
  },
  {
   "cell_type": "markdown",
   "id": "b408dc12-f3c0-4777-ae00-b77e7555f068",
   "metadata": {},
   "source": [
    "<div class=\"exercise admonition\">\n",
    "<p class=\"admonition-title\">Check Your Understanding</p>\n",
    "<p> Based on what you've learned about SMILES strings, answer the following questions:\n",
    "<p>\n",
    "    <ul>\n",
    "        <li> What would be the SMILES string for ethanol?\n",
    "        <li> What is the SMILES string for water?\n",
    "        <li> What molecule is represented by the SMILES string O=C=O?\n",
    "    </ul>\n",
    "</p>\n",
    "<p>Check your answers from this previous exercise using the PubChem molecule sketcher. Notice that you can type in a SMILES string and have the sketcher draw the molecule for you.</p>\n",
    "</div>"
   ]
  },
  {
   "cell_type": "markdown",
   "id": "002cdda7-264d-4bb2-b21d-547b9c17332d",
   "metadata": {},
   "source": [
    "### Fill in your answers here:\n",
    "\n",
    "1.\n",
    "2.\n",
    "3.\n"
   ]
  },
  {
   "cell_type": "markdown",
   "id": "6d1216b6-2f59-4f83-90dc-8e7c2344149f",
   "metadata": {},
   "source": [
    "## Molecule File Formats\n",
    "\n",
    "Information about molecules can also be stored in text files. Some text file formats include:\n",
    "\n",
    "* [MOL (MDL Molfile)](https://en.wikipedia.org/wiki/Chemical_table_file#:~:text=specifications.%5B3%5D-,Molfile,-%5Bedit%5D): The MOL file format is a widely used standard developed by Molecular Design Limited (MDL) for storing 2D and 3D molecular structures. It contains information on atoms, bonds, and connectivity.\n",
    "\n",
    "* [MOL2 (Sybyl Mol2)](http://chemyang.ccnu.edu.cn/ccb/server/AIMMS/mol2.pdf): The MOL2 file format, developed by Tripos Inc., is an extension of the MOL format. It is mainly used in molecular modeling and computational chemistry. It supports more advanced features like force field types, atomic charges, and multiple conformations for the same molecule.\n",
    "\n",
    "* [PDB (Protein Data Bank)](https://www.cgl.ucsf.edu/chimera/docs/UsersGuide/tutorials/pdbintro.html): The PDB format is a standard for storing 3D structures of biological macromolecules, such as proteins and nucleic acids. PDB files contain information on atom types, positions, connectivity, and secondary structure elements. PDB files are widely used in structural biology and bioinformatics.\n",
    "\n",
    "* [SDF (Structure Data File)](https://en.wikipedia.org/wiki/Chemical_table_file#:~:text=or%20model%20regno-,SDF,-%5Bedit%5D): SDF is another file format developed by MDL, used primarily for storing and exchanging large sets of 2D and 3D chemical structures. It is an extension of the MOL file format, where multiple MOL files can be concatenated together with additional metadata in a single file.\n",
    "\n",
    "* [XYZ](https://www.cgl.ucsf.edu/chimera/docs/UsersGuide/xyz.html): A simple, human-readable file format for storing atomic coordinates. It does not include information on atomic connectivity.\n",
    "\n",
    "* [CIF (Crystallographic Information File)](https://www.iucr.org/resources/cif/spec/version1.1): A file format used in crystallography to store crystal structures, including atomic coordinates, unit cell parameters, and symmetry information. It is the standard format for the International Union of Crystallography's (IUCr) databases.\n",
    "\n",
    "* [PDBx/mmCIF (Macromolecular Crystallographic Information File)](https://pdb101.rcsb.org/learn/guide-to-understanding-pdb-data/beginner%E2%80%99s-guide-to-pdb-structures-and-the-pdbx-mmcif-format): a file format used for storing crystallographic information related to macromolecular structures such as proteins, nucleic acids, and their complexes. mmCIF is an extension of the CIF (Crystallographic Information File) format, which is used for small-molecule crystal structures. Developed by the International Union of Crystallography (IUCr) and the Research Collaboratory for Structural Bioinformatics (RCSB), mmCIF was created to address the limitations of the PDB file format.\n",
    "\n",
    "Since these are all machine readable files, they can all be processed and analyzed using Python. \n",
    "Most often, you will use a Python library specialized to work with each file format.\n",
    "In this workshop, we will be learning about the Python library [RDKit](https://www.rdkit.org/docs/index.html). \n",
    "RDKit is a library commonly used in cheminformatics for working with molecules.\n",
    "\n",
    "A preview of a Mol file for histidine. We will see how we can use RDKit to load files like this in the next few lessons."
   ]
  },
  {
   "cell_type": "code",
   "execution_count": null,
   "id": "dfacae79-d866-4a9a-b34a-cff48f4ccf65",
   "metadata": {},
   "outputs": [],
   "source": [
    "with open(\"data/amino_acids/his.mol\") as f:\n",
    "    data = f.read()\n",
    "\n",
    "# Print the first 5000 characters in the file.\n",
    "print(data[:2000])"
   ]
  },
  {
   "cell_type": "code",
   "execution_count": null,
   "id": "58f0d2f5-5d0c-44cb-bade-a9c2281b5ad4",
   "metadata": {},
   "outputs": [],
   "source": []
  }
 ],
 "metadata": {
  "kernelspec": {
   "display_name": "Python 3 (ipykernel)",
   "language": "python",
   "name": "python3"
  },
  "language_info": {
   "codemirror_mode": {
    "name": "ipython",
    "version": 3
   },
   "file_extension": ".py",
   "mimetype": "text/x-python",
   "name": "python",
   "nbconvert_exporter": "python",
   "pygments_lexer": "ipython3",
   "version": "3.11.0"
  }
 },
 "nbformat": 4,
 "nbformat_minor": 5
}
