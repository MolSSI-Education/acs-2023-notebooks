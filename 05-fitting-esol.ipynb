{
 "cells": [
  {
   "cell_type": "code",
   "execution_count": 1,
   "id": "00a5573c-3500-4463-9358-c6f4001c465f",
   "metadata": {},
   "outputs": [
    {
     "data": {
      "text/html": [
       "\n",
       " <meta charset=\"utf-8\" />\n",
       "    <meta name=\"viewport\" content=\"width=device-width, initial-scale=1.0\" /><meta name=\"generator\" content=\"Docutils 0.19: https://docutils.sourceforge.io/\" />\n",
       "\n",
       "    <link rel=\"stylesheet\" type=\"text/css\" href=\"custom/custom.css\" />\n"
      ],
      "text/plain": [
       "<IPython.core.display.HTML object>"
      ]
     },
     "execution_count": 1,
     "metadata": {},
     "output_type": "execute_result"
    }
   ],
   "source": [
    "# apply Jupyter notebook style\n",
    "from IPython.core.display import HTML\n",
    "\n",
    "from custom.styles import style_string\n",
    "\n",
    "HTML(style_string)"
   ]
  },
  {
   "cell_type": "markdown",
   "id": "50e089d3-d4f6-485b-aadc-ac7fc04d2e0f",
   "metadata": {},
   "source": [
    "# Fitting the ESOL Dataset\n",
    "\n",
    "<div class=\"overview admonition\"> \n",
    "<p class=\"admonition-title\">Overview</p>\n",
    "\n",
    "Questions:\n",
    "\n",
    "* How can I use SciKit-Learn to fit the ESOL dataset?\n",
    "\n",
    "Objectives:\n",
    "\n",
    "* Fit solubility data with the ESOL model using SciKitLearn.\n",
    "\n",
    "</div>\n",
    "\n",
    "In this notebook, we will put together many of the skills we have already learned to creat the model originally fit in the 2004 ESOL paper.\n",
    "\n",
    "In the original ESOL paper, solubility is calculated as a linear relationship with multiple molecular descriptors:\n",
    "\n",
    "1. **cLogP** - \"calculated LogP\". [LogP is the log of the partition coefficient of a solute between octanol and water, at near infinite dilution. LogP is widely used in drug discovery and development as an indicator of potential utility of a solute as a drug.](https://www.sciencedirect.com/topics/chemistry/logp#:~:text=LogP%20is%20the%20log%20of,a%20solute%20as)\n",
    "2. **Molecular Weight** - The sum of the atomic weights of all the atoms in a molecule.\n",
    "3. **Rotable Bonds** - Bonds that are not part of a ring and can be rotated freely, indicating molecular flexibility.\n",
    "4. **Aromatic Proportion** - The proportion of aromatic atoms to the total number of heavy (non-hydrogen) atoms in the molecule.\n",
    "\n",
    "In this notebook, we will go through the data science pipeline in order to create a model of our data using SciKit-Learn."
   ]
  },
  {
   "cell_type": "markdown",
   "id": "603fa7a6-a19d-460f-be1a-d2072801551b",
   "metadata": {},
   "source": [
    "## Step 1 - Data Preparation\n",
    "\n",
    "The first step in fitting our data is preparing our data for fitting.\n",
    "Sometimes this could involve data cleaning. \n",
    "Data cleaning is a process to ensure that things like missing data is taken care of.\n",
    "For this data set, we don't need to do any data cleaning, however, we do need to add some additional data in order\n",
    "to replicate the original ESOL model fit."
   ]
  },
  {
   "cell_type": "code",
   "execution_count": null,
   "id": "775c4745-b56e-4418-a31d-49226e46e71c",
   "metadata": {},
   "outputs": [],
   "source": [
    "# First we import the liraries we want\n",
    "\n",
    "import pandas as pd\n",
    "\n",
    "from rdkit import Chem\n",
    "from rdkit.Chem import Descriptors"
   ]
  },
  {
   "cell_type": "code",
   "execution_count": null,
   "id": "11d3debb-94e9-4fb1-a18a-ca2059ed4bee",
   "metadata": {},
   "outputs": [],
   "source": [
    "# next we use pandas to read the file\n",
    "df = pd.read_csv(\"data/delaney-processed.csv\")"
   ]
  },
  {
   "cell_type": "markdown",
   "id": "c6c85879-6bba-4c56-9384-6da0f5a14d38",
   "metadata": {},
   "source": [
    "We would like to add some molecular descriptors to our data frame, so we will use RDKit to load the SMILES \n",
    "as RDKit molecule objects."
   ]
  },
  {
   "cell_type": "code",
   "execution_count": null,
   "id": "ee26079d-fec6-4af2-ad8b-9072209a72b4",
   "metadata": {},
   "outputs": [],
   "source": [
    "df[\"mol\"] = df[\"smiles\"].apply(Chem.MolFromSmiles)\n",
    "df.head(2) # view the first two rows"
   ]
  },
  {
   "cell_type": "markdown",
   "id": "3c399034-5cb3-42ed-b3e1-8e8405a67f30",
   "metadata": {},
   "source": [
    "<div class=\"exercise admonition\">\n",
    "<p class=\"admonition-title\">Adding Descriptors</p>\n",
    "\n",
    "Use RDKit to add the descripors cLogP to the dataframe.\n",
    "\n",
    "You can find this descriptor as `Descriptors.MolLogP`\n",
    "\n",
    "</div>"
   ]
  },
  {
   "cell_type": "code",
   "execution_count": null,
   "id": "d56a4a47-5098-432d-87e6-eddcb1a2cab4",
   "metadata": {},
   "outputs": [],
   "source": [
    "df[\"cLogP\"] = df[\"mol\"].apply(Descriptors.MolLogP)"
   ]
  },
  {
   "cell_type": "markdown",
   "id": "5d126178-230b-485f-8131-68cac3e0566d",
   "metadata": {},
   "source": [
    "Getting the aromatic proportion is more complicated.\n",
    "We can define a SMARTS string that corresponds to an aromatic atom as `[a]`."
   ]
  },
  {
   "cell_type": "code",
   "execution_count": null,
   "id": "06baf2dc-0de3-4db3-b402-b0765857c7a7",
   "metadata": {},
   "outputs": [],
   "source": [
    "# use Chem.MolFromSmarts to make an aromatic pattern.\n",
    "aromatic_pattern = "
   ]
  },
  {
   "cell_type": "markdown",
   "id": "ff64aa34-1e83-4d54-b895-d7fa87e93d12",
   "metadata": {},
   "source": [
    "The following cell adds a column with aromatic proportion data for each molecule to the dataframe.\n",
    "This line of code uses a syntax called lambda functions that has not been presented before.\n",
    "\n",
    "You can take some time to try to understand this cell, or you can move on to the model fitting."
   ]
  },
  {
   "cell_type": "code",
   "execution_count": null,
   "id": "5442e7b1-73d2-4c0e-8f9f-f2cfd3bb8d6f",
   "metadata": {},
   "outputs": [],
   "source": [
    "df[\"aromatic proportion\"] = df[\"mol\"].apply(lambda x: len(x.GetSubstructMatches(aromatic_pattern)) / Descriptors.HeavyAtomCount(x))"
   ]
  },
  {
   "cell_type": "markdown",
   "id": "276dc6bf-295b-4c1a-9701-6d00954a0901",
   "metadata": {},
   "source": [
    "## Step 2 - Data Inspection\n",
    "\n",
    "Use the following cells and the pandas/seaborn libraries to investigate what descriptors are correlated."
   ]
  },
  {
   "cell_type": "code",
   "execution_count": null,
   "id": "75bfc32d-944d-45ee-9f1a-d96534ee607a",
   "metadata": {},
   "outputs": [],
   "source": []
  },
  {
   "cell_type": "code",
   "execution_count": null,
   "id": "578007c9-b5be-4c46-80e4-713ead710109",
   "metadata": {},
   "outputs": [],
   "source": []
  },
  {
   "cell_type": "code",
   "execution_count": null,
   "id": "c0772ab0-f130-43ed-842c-059034eaef55",
   "metadata": {},
   "outputs": [],
   "source": []
  },
  {
   "cell_type": "markdown",
   "id": "40cea012-98a3-4885-bf90-53d5fcf7277b",
   "metadata": {},
   "source": [
    "## Step 3 - Data Fitting\n",
    "\n",
    "### Step 3.1 - Train Test Split\n",
    "\n",
    "Use the cells below to perform a train test split using SciKitLearn"
   ]
  },
  {
   "cell_type": "code",
   "execution_count": null,
   "id": "16c6276c-26a0-4c2a-83bc-1b0823bb7b68",
   "metadata": {},
   "outputs": [],
   "source": []
  },
  {
   "cell_type": "code",
   "execution_count": null,
   "id": "39b0a8e2-4c5a-4331-a081-7b74e710a490",
   "metadata": {},
   "outputs": [],
   "source": []
  },
  {
   "cell_type": "code",
   "execution_count": null,
   "id": "acc8e5ca-bca0-4a0f-a44b-6d63f50354bb",
   "metadata": {},
   "outputs": [],
   "source": []
  },
  {
   "cell_type": "markdown",
   "id": "7ca665cc-5458-446f-843a-305611f706a6",
   "metadata": {},
   "source": [
    "### Step 3.2 - Create and Fit a Linear Model to the Training Data\n",
    "In a data science pipeline, this step would also involve model selection. However, for our purposes, we will fit a multi-linear model.\n",
    "You can use the features mentioned in the first cell, or you may decide on others you think are important from your inspection."
   ]
  },
  {
   "cell_type": "code",
   "execution_count": null,
   "id": "ff258d98-0e04-4579-9213-191ef6c30806",
   "metadata": {},
   "outputs": [],
   "source": []
  },
  {
   "cell_type": "code",
   "execution_count": null,
   "id": "c6b94978-bb18-4099-8f26-2b398118b97a",
   "metadata": {},
   "outputs": [],
   "source": []
  },
  {
   "cell_type": "code",
   "execution_count": null,
   "id": "f0421576-e85f-4c49-83dd-5c9077d35e39",
   "metadata": {},
   "outputs": [],
   "source": []
  },
  {
   "cell_type": "markdown",
   "id": "96be3781-16bf-43ac-a150-fba890ab0ee6",
   "metadata": {},
   "source": [
    "## Step 4 - Model Evaluation\n",
    "\n",
    "Use your testing data to evaluate your model. Calculate the $R^2$ score for the training data and visualize the predicted vs. actual values."
   ]
  },
  {
   "cell_type": "code",
   "execution_count": null,
   "id": "a508433d-6916-45dd-b974-b8341cb99286",
   "metadata": {},
   "outputs": [],
   "source": []
  },
  {
   "cell_type": "code",
   "execution_count": null,
   "id": "30321bce-1da9-4656-997c-87922cb50f9a",
   "metadata": {},
   "outputs": [],
   "source": []
  },
  {
   "cell_type": "code",
   "execution_count": null,
   "id": "184005f1-eada-478c-bdc1-3182d03b0070",
   "metadata": {},
   "outputs": [],
   "source": []
  },
  {
   "cell_type": "code",
   "execution_count": null,
   "id": "baa85c08-6b87-465c-b4a6-c6c34caae374",
   "metadata": {},
   "outputs": [],
   "source": []
  },
  {
   "cell_type": "markdown",
   "id": "c65b9bae-8251-4155-9130-78e7658c8b92",
   "metadata": {},
   "source": [
    "## Step 5 - Iteration\n",
    "Based on the evaluation results, iterate as needed. You might need to adjust features, consider model complexity, or revisit data preparation."
   ]
  },
  {
   "cell_type": "code",
   "execution_count": null,
   "id": "147ece87-b107-4892-8405-eccf4981a1f7",
   "metadata": {},
   "outputs": [],
   "source": []
  },
  {
   "cell_type": "code",
   "execution_count": null,
   "id": "15ad5f65-e49b-443e-bfbc-ca9e585f9776",
   "metadata": {},
   "outputs": [],
   "source": []
  },
  {
   "cell_type": "code",
   "execution_count": null,
   "id": "b0fba148-4fea-4ff4-ba9c-98116a1c2704",
   "metadata": {},
   "outputs": [],
   "source": []
  },
  {
   "cell_type": "code",
   "execution_count": null,
   "id": "3d4bc6ca-2b4b-45a2-9aa2-1451e38ca83e",
   "metadata": {},
   "outputs": [],
   "source": []
  }
 ],
 "metadata": {
  "kernelspec": {
   "display_name": "Python 3 (ipykernel)",
   "language": "python",
   "name": "python3"
  },
  "language_info": {
   "codemirror_mode": {
    "name": "ipython",
    "version": 3
   },
   "file_extension": ".py",
   "mimetype": "text/x-python",
   "name": "python",
   "nbconvert_exporter": "python",
   "pygments_lexer": "ipython3",
   "version": "3.10.12"
  }
 },
 "nbformat": 4,
 "nbformat_minor": 5
}
