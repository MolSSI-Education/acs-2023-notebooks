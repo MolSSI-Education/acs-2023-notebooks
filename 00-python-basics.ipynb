{
 "cells": [
  {
   "cell_type": "code",
   "execution_count": null,
   "id": "5388e9ac-cbfa-42ac-b9d1-c0800a4b5b40",
   "metadata": {},
   "outputs": [],
   "source": [
    "# variable assignment\n",
    "# data types\n",
    "# conditionals\n",
    "# for loops\n",
    "# imports"
   ]
  }
 ],
 "metadata": {
  "kernelspec": {
   "display_name": "Python 3 (ipykernel)",
   "language": "python",
   "name": "python3"
  },
  "language_info": {
   "codemirror_mode": {
    "name": "ipython",
    "version": 3
   },
   "file_extension": ".py",
   "mimetype": "text/x-python",
   "name": "python",
   "nbconvert_exporter": "python",
   "pygments_lexer": "ipython3",
   "version": "3.11.0"
  }
 },
 "nbformat": 4,
 "nbformat_minor": 5
}
