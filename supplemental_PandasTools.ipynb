{
 "cells": [
  {
   "cell_type": "code",
   "execution_count": null,
   "id": "87349a02-733f-4916-8acc-ff928dc6fb9d",
   "metadata": {},
   "outputs": [],
   "source": [
    "# apply Jupyter notebook style\n",
    "from IPython.core.display import HTML\n",
    "\n",
    "from custom.styles import style_string\n",
    "\n",
    "HTML(style_string)"
   ]
  },
  {
   "cell_type": "markdown",
   "id": "8f4c7968-6d27-416a-9fe7-8642046a44a8",
   "metadata": {},
   "source": [
    "<div style=\"text-align:center;\">\n",
    "  <img src=\"custom/molssi_main_horizontal.png\" style=\"display: block; margin: 0 auto; max-height:200px;\">\n",
    "</div>\n",
    "\n",
    "# Supplemental Notebook: RDKit PandasTools\n",
    "\n",
    "<div class=\"overview admonition\"> \n",
    "<p class=\"admonition-title\">Overview</p>\n",
    "\n",
    "Questions:\n",
    "\n",
    "* What are MOL and SDF files?\n",
    "* How can they be used to create Mol objects in RDKit?\n",
    "* How can I work with RDKit molecule objects in a pandas DataFrame?\n",
    "\n",
    "Objectives:\n",
    "\n",
    "* Read a MOL file.\n",
    "* Create Mol objects from MOL and SDF files.\n",
    "    \n",
    "</div>\n",
    "\n",
    "\n",
    "## Creating Mol Objects from Files\n",
    "\n",
    "Mol object instances can be created by a variety of methods.  We've seen some examples of Mol objects being created from SMILES strings, now we'll learn some additional ways an RDKit mol object can be created.\n",
    "\n",
    "Data for any system under investigation that is non-ideal, from real systems in experimental methods to optimized geometries in QM methods, cannot be communicated via a SMILES string.  In these situations, often more detailed specifications are needed, such as an accurate 3D geometry with explicit hydrogens.  Part of the utility of RDKit lies in its ability to create Mol objects using a variety of input formats, so that we can take molecular data from other sources or research processes and generate additional properties and descriptors.\n",
    "\n",
    "Different methods are called for depending on the format of the molecule's specifications, depending on what you're passing passing around, between researchers, applications, or modules.  Two common and versatile formats that we'll cover today are the MOL file and related Structural Data File (SDF)."
   ]
  },
  {
   "cell_type": "code",
   "execution_count": null,
   "id": "410f81da-3c65-4629-8e3a-c491ee125a4a",
   "metadata": {
    "tags": []
   },
   "outputs": [],
   "source": [
    "from rdkit import Chem"
   ]
  },
  {
   "cell_type": "markdown",
   "id": "048d3ffc-978b-41c6-bedb-0f4064ef794b",
   "metadata": {},
   "source": [
    "### Mol from Mol File\n",
    "\n",
    "The MOL file is a format first created by MDL internally and published by [Dalby et al. in 1992](https://pubs.acs.org/doi/10.1021/ci00007a012).  It was created specifically for cheminformatics applications and is the most straightforward way of passing detailed structural data and metadata into RDKit.  The formatting is very precise and adhered to strictly by RDKit, so a link to the original paper has been included above.\n",
    "\n",
    "#### Previewing the File\n",
    "Before loading the file with RDKit, let's use Python to take a look at it."
   ]
  },
  {
   "cell_type": "code",
   "execution_count": null,
   "id": "6b03cacc-5ede-4167-9c70-25d681a94eaf",
   "metadata": {
    "tags": []
   },
   "outputs": [],
   "source": [
    "pro_file = \"data/amino_acids/pro.mol\"\n",
    "\n",
    "with open(pro_file) as file:\n",
    "    print(file.read())"
   ]
  },
  {
   "cell_type": "markdown",
   "id": "83e286c0-529a-4d86-96ee-6b888b3ec869",
   "metadata": {},
   "source": [
    "#### Loading the File\n",
    "\n",
    "To load the file, we can use the `MolFromMolFile` function in RDKit. We add the argument `strictParsing=False` in case there are any slight problems with our mol file"
   ]
  },
  {
   "cell_type": "code",
   "execution_count": null,
   "id": "46008c3f-a407-4ef4-8f3b-270f19733329",
   "metadata": {
    "tags": []
   },
   "outputs": [],
   "source": [
    "pro = Chem.MolFromMolFile(pro_file, strictParsing=False)\n",
    "pro"
   ]
  },
  {
   "cell_type": "markdown",
   "id": "59b2ade8-af72-4917-9198-9d7eecb2c8b1",
   "metadata": {},
   "source": [
    "<div class=\"exercise admonition\">\n",
    "<p class=\"admonition-title\">Check Your Understanding</p>\n",
    "<p> Load and visualize histidine molecule from the mol file provided in `data/amino_acids/his.mol`. </p>\n",
    "    <p><strong>Challenge</strong> - Print the stereochemistry of each molecule. Then, use a substructure search to highlight the amine group on the two amino acids </p>\n",
    "</div>"
   ]
  },
  {
   "cell_type": "code",
   "execution_count": null,
   "id": "c7b0ceac-c2eb-4bb7-9a0e-30d256fadbba",
   "metadata": {
    "tags": []
   },
   "outputs": [],
   "source": []
  },
  {
   "cell_type": "code",
   "execution_count": null,
   "id": "78908288-7ec0-42f4-bd28-201e8cec0024",
   "metadata": {
    "tags": []
   },
   "outputs": [],
   "source": []
  },
  {
   "cell_type": "code",
   "execution_count": null,
   "id": "a09f49ec-a15a-41f5-934b-1b518fba3c87",
   "metadata": {},
   "outputs": [],
   "source": []
  },
  {
   "cell_type": "code",
   "execution_count": null,
   "id": "bb3600e2-2bb9-4cda-99aa-008fdb333912",
   "metadata": {},
   "outputs": [],
   "source": []
  },
  {
   "cell_type": "code",
   "execution_count": null,
   "id": "862bd4a5-a4e6-47dc-b41e-9b0a413021dd",
   "metadata": {
    "tags": []
   },
   "outputs": [],
   "source": []
  },
  {
   "cell_type": "markdown",
   "id": "ed4c375b-bab5-4d11-a0ee-0b51c9868f85",
   "metadata": {},
   "source": [
    "## Mol from SDF\n",
    "\n",
    "An SDF file is a collection of **MOL file** style string blocks separated by a blank line and a line composed of 4 '$' characters.  It's a very convenient way of passing sets of molecules related in some way such as by similarity or research project between users/machines.  Since each molecule's specifications is already in MOL format, creating Mol objects is very straightforward and a list of Mols is created when the file is read.\n",
    "\n",
    "Although there are a few ways to work with SDF files in RDKit, we will highlight just one in this lesson. \n",
    "We will use the RDKit module called `PandasTools` to load all of the molecules from an SDF file into a pandas dataframe.\n",
    "If you have not worked with pandas before or if you need a refresher, see notebook `03_python_data_science.ipynb`.\n",
    "\n",
    "`PandasTools` is a module in `rdkit.Chem` that allows you to easily work with RDKit molecules and pandas dataframes.\n",
    "To use it, we must first import it. \n",
    "Next, we tell rdkit that we want to see our molecules as images in the dataframe by setting `PandasTools.RenderImagesInAllDataFrames(True)`. \n",
    "This is a setting that is set once in the notebook.\n",
    "\n",
    "The `PandasTools.LoadSDF` function loads molecules from an SDF file into a dataframe. "
   ]
  },
  {
   "cell_type": "code",
   "execution_count": 1,
   "id": "51483541-95ca-46e8-8efe-d0481dfef002",
   "metadata": {
    "tags": []
   },
   "outputs": [],
   "source": [
    "from rdkit.Chem import PandasTools\n",
    "\n",
    "PandasTools.RenderImagesInAllDataFrames(True)\n",
    "\n",
    "df = PandasTools.LoadSDF(\"data/amino_acids/amino_acids-nat20.sdf\", strictParsing=False)"
   ]
  },
  {
   "cell_type": "code",
   "execution_count": 2,
   "id": "9b95a7d9-4944-4da5-a5da-7e8316fba21e",
   "metadata": {
    "tags": []
   },
   "outputs": [
    {
     "data": {
      "text/html": [
       "<div>\n",
       "<style scoped>\n",
       "    .dataframe tbody tr th:only-of-type {\n",
       "        vertical-align: middle;\n",
       "    }\n",
       "\n",
       "    .dataframe tbody tr th {\n",
       "        vertical-align: top;\n",
       "    }\n",
       "\n",
       "    .dataframe thead th {\n",
       "        text-align: right;\n",
       "    }\n",
       "</style>\n",
       "<table border=\"1\" class=\"dataframe\">\n",
       "  <thead>\n",
       "    <tr style=\"text-align: right;\">\n",
       "      <th></th>\n",
       "      <th>ID</th>\n",
       "      <th>ROMol</th>\n",
       "    </tr>\n",
       "  </thead>\n",
       "  <tbody>\n",
       "    <tr>\n",
       "      <th>0</th>\n",
       "      <td>Ala</td>\n",
       "      <td style=\"text-align: center;\"><div style=\"width: 200px; height: 200px\" data-content=\"rdkit/molecule\"><img src=\"data:image/png;base64,iVBORw0KGgoAAAANSUhEUgAAAMgAAADICAIAAAAiOjnJAAAABmJLR0QA/wD/AP+gvaeTAAAUkUlEQVR4nO3de1SUZR4H8C/DMFzkIqEgaAJuXhHQVVkTUjm5icqWuQviAuqmWVubZmcNPR3lrNVKu2Z4S9Q6KR6zpOO9MhRbQ+UUeIEAb6glokFc5OY4DMyzfwxxmRmGi/PM887w+xz/wPd54P2VX573ned93ve1YYyBEFOTiS6AWCcKFuGCgkW4oGARLihYhAsKFuGCgkW4oGARLihYhAsKFuGCgkW4oGARLihYhAsKFuGCgkW4oGARLihYhAsKFuGCgkW4oGARLihYhAsKFuGCgkW4oGARLihYhAsKFuGCgkW4oGARLihYhAsKFuGCgkW4oGARLihYhAsKFuGCgkW4oGARLihYhAsKFuGCgkW4oGARLihYhAsKFuGCgkW4oGARLiwpWNnZ2fPmzWtsbBRdCOmcZQTr9OnT06ZNi4iIOHjw4MGDB0WXQzpnI/HXyqWnp69fvz4nJ6eqqkq7JSIi4uuvvxZbFemUXHQBhjHGUlNTU1JS8vPz6+rq2jZdvny5oqLCw8NDVG2kKyQ6YtXW1gYGBv78888GW9esWfOvf/3LzCWRbpHoOZaLi0tcXJxcbnhATU9PN3M9pLskOmIBaGxsnDBhwqVLl/Sb3N3dT506NWbMGPNXRbpIoiMWALlcnpiY6Obmpt9UVVW1YcMG85dEuk66wQIwe/bskJAQg005OTlqtdrM9ZCuk3SwAOzYsWPw4MH624uKivbv32/+ekgXST1Yfn5+s2bNsrGx0dmuVqv37NkjpCTSFdI9eW+hVCpDQkLy8/N1tj/++OPZ2dleXl5CqiLGSX3EAuDo6Lhs2bI+ffrobC8uLk5OThZSkmWrq8Pt22g/7WxyFhAsAIsXLzY4uXDy5EnzF2OpLlxAXBw8PeHiAl9fuLjA0xNxcbh4UbfnpUtwc4ObG367jKbr88/h5oahQ43tjlmIS5cu6R/1XF1df/jhB9GlSZ5Gw1avZjY2DGA2NmzYMDZhAhs2rHmLTMZWr2YaTWv/nBwGMICVlxv+gampDGCenkb2aTHBYozFxcXp/2LMmzdPdF2St25dc1AWLWJ37rRuLy5mCxY0N/37363be1uwKisrhw0bphOsESNGPHz4UHRpEnb9OrOzYwB7803DHZYtYwCzs2PXrzdvMUWwLOMcS8vd3X3hwoUKhaLtxhs3bnz66aeiSrIAH34ItRqDB+Pttw13SEqCjw/UamzdasLdWlKwACQkJOicxavVagqWMdq1azExaP8L2crBAfPmtfY0EQsLlkwmS0pK6tevX9uNBQUF9+7dE1WSpNXW4upVAOjgyliziRMB4No11NSYas8SXehnRHh4+MSJE48dO9ay5d69exs2bPjvf/8rsCqJKi+HdgLcx8dYt4EDAYAxlJfD1bV1++TJsLU10P/+/U73bHnBAvDRRx89+eSTt27datny7bffCqxHuh48aP7CwcFYN0fH5i/q69ttLyzs8Z4t7FCo5eXlFR0dbdvml+natWtnzpwRWJJEtQw/OonR0TIL33a4AnD9OsrLDfz58MNO92yRwQKwdu3awMDAlr/W1tZu2rRJYD0S1b8/tKtwf/rJWDft2C+Xw9Oz3XZ3d3h4GPjj7Nzpni01WAqFYs2aNa5tfsNyc3OVSqXAkqTIwQFBQQCQlWWs29mzABAU1HpMfGSWGiwAzz///Pjx41v+euPGjd27dwusR6Keew4APv8ctbWGO1RXIy0NAJ5/3oS7teBgAUhJSXn88ce1Xzc1NdHSPwNefBEuLqiowNKl0F8ipdHgtddQWQk3NyxZYsLdWnawhg4dOnPmzJZlgJcvXy4uLhZbkuR4e2PjRgDYtQvPPYe8vNamvDw8+yy06yU3b9Y9wXpEj3IZSgrq6+sDAgJa/nNef/110RVJ0rZtzN6++Qpgv35s+HDWr1/zXx0c2Ecftevc264VGuTk5PT3v//d8bezztOnTzPJr4kV4OWXceUKli3D8OGorsbVq6iuxogRWL4cV69i0aJ2nZ2cEByM4GB0cF8nHnsMwcEYPdrIDi1gaXJXhIWFnT17FoCTk9OxY8fCw8NFVyRt1dUwdF+dCVn8iKW1efNm7TLABw8ebNmyRXQ5ol25glWroNF02IFzqmA1wRo7duyUKVO0X+fl5T1ouZTRC5WUICICSUkQe0OAqc4OhausrBw6dCgAmUyWnJwsuhxB7t9nwcEMYBMnsro6gYVYyYgFwN3dff78+QqFQqPRHDhwQHQ5IiiViIxEbi4CAvDll9C7r8msBIba5JqamrRz8Z6enkVFRaLLMa/GRjZnDgPYoEHs9m3R1VjRiAVAJpOtW7fO3d29rKysdz01hDG89BIOHEC/fjhxAr9djRDIqoIFYNq0aZMmTQJw9uxZZhUzKV2yahU+/hhOTjh8GCNGiK4GgHUdCrWKi4v9/f2dnJyOHz8uuhaz2LKl+Tabr78WXUoraxuxAAwaNGj27NkqlSolJUV0Lfzt24elS2Fjg507EREhuppWVjLzrqOhoSEkJKSuru7ixYsuLi6iy+EmIwOzZkGlwvvv4403RFfTjhWOWAAUCsWbb75ZWlq6Y8cO0bVwk52N2bOhUmHlSqmlCtY6YmmFh4erVKpz586JLoSDoiKEhaG0FHFxSE2F3vPDhLPmYF29ejUkJCQnJ2eo8eeiWJy7dxEaip9+QmQkDh7scA2CUNYcLADx8fEymcyalizXVlU5T51qk5eH0FCkp8PJSXRFhll5sGpraydMmJCenm7wQaYWR6lUTp8+fWZDw5sNDbKTJ/HYY6Ir6pB1nry3UKlUZWVlvr6+crncx8cnISHh6NGjVR09T0zaGhsbY2JiMjMzt927V3r0qJRTBVjjBGlb87SPu2jP1tY2MDBw8eLFO3fuzM3NbWxsFF1m5zQazaJFiwB4eHgUFhaKLqdz1nwo/PTTT2NjYx0dHQ8dOuTg4HD8+PH6+vrz58+fP3/+4cOHLd369OkzZsyYcb9pu4JeOlatWpWUlOTk5HTixAntNSupE51sXn788UcnJycAu3bt0mlqaGjIz8/fvn17fHz8qFGjdJ71PWDAgMjIyMTExCNHjpR3dDeBeW3duhWAnZ3dV199JbqWrrLOYNXV1Y0cORLAokWLOu1cXV2dmZmZlJQUGRnpqXcLlLe3d1RUVHJycmZmplKpNEPxOvbt2yeTyWxsbD755BPz773HrDNY8fHxAEaPHl1fX9/d7y0pKTly5EhCQkJoaKhj+1vO7ezsRo0atWTJkt27d+fn52vaPhCWj4yMDHt7ewDr16/nvS/TssJgbdu2DYCzs/Ojn+Sq1er8/Pzdu3cvXbp03LhxMlm7D9Gurq6hoaEJCQlHjhwpLS01SfFtZWdnOzs7A0hISDD5D+fN2oKVm5urHWb27Nlj8h9eU1OTmZmZnJwcHx/v5+enf9CMjIxMSkrKzMx88ODBI+7r+vXr2vuO4uLizDA0mpxVBaumpmb48OEAXnnlFTPsTnvQTExMjIyMdHd3bxsyuVw+atSo+Pj47du35+fnNzU1dfcna4M7a9YstVrNqX6urGq6ISoq6osvvggODs7KynI03RN5uqKpqenKlSvnf5Odnd3Q0NDS6uLiEhQUpJ3OmDx5sv5o11Z1dXVoaGhBQYGvr29BQYH+u14sgvUEa+PGja+//nrfvn3Pnz8/ZMgQscXU19dfvHixJWeF7Z+56O3t3TJt9tRTT/Xt27elSXvRJjMzU9utuLjY1uBTQCXPSoKVnZ0dFhamVqu/+OKLOXPmiC5H1y+//JKdna0NWVZWVkVFRUuTra3tkCFDhgwZ4u7u/sc//jEtLe348eMDBw60t7e/efPmN99888wzzwisvOcEH4pNobKy0t/fH8Dy5ctF19IlJSUl+/fvX7p0qf6LNgC4ubkVFha+8847AGJiYkQX20MWHyyNRjN79mwAISEhKpVKdDndoz3SKRSKmJgYPz8/Ozu7AQMG7Ny5kzF2584dW1tbBweHyspK0WX2hMUH67333gPg7u5+69Yt0bX0xLRp0wBs27ZNv2n69OkAtm7dav6qHp1lBysrK8vOzs7GxubQoUOia+mhvXv3aodb/abPPvsMwPjx481f1aOz4GBVVFT4+voCWLlypehaek6pVGrnwPLy8nSaVCqV9uUuly5dElLbo7DUhX4ajSY2Nvbnn39+8skn165dK7qcnnNwcJg7dy6A1NRUnSaFQqFtssil1aKT3UPvvts0ZcphL68BJSUlomt5VN9//z0AT0/PhoYGnaacnBwAHh4eFve5xCKDdeoUs7VlMhk7dapadC2mERQUBODw4cP6TcHBwQAOHDhg/qoeheUdCktLERuLpiasXo3wcNfOv8ESzJ8/H8Ann3yi37RgwYKOmqTMwmbeNRpERODECYSH48QJw+88s0RlZWWDBg1ijBUXFw8YMKBtU0VFxcCBA5uamm7fvu3t7S2qwu6ysBErMREnTsDLC3v3Wk+qAHh6es6cObOxsVH/bbEeHh7aJu3EhMUQfSzuhoyM5lOrkydFl8LBoUOHAAQEBOg3HT16FMCMP/zB/FX1mMUEq7iY9e/PAPbuu6JL4UOtVmsPgj/88IN+040ZM5i9PcvKElJbD1jGobCxEX/9K379FTNmYOVK0dXwIZfLY2NjYeg8XS6XDxk9GioVdu0SUFnPiE52l6xY0fzU1l9/FV0KT/n5+QBGDhrUpH870JUrDGBubqz7t4cIYQEj1pdfYv16yOXYtw/tX19vbQICAgrj4gqrqmQHD+q2DR+OiRNRXQ39JkmSerCKi7FgARhDUhLCwkRXw9/I0FDU18PgrNXf/gbAcJP0SHoeS63G1Kk4dw6RkThyRIJPF+Oguho+Pnj4ELduQecJOTU18PaGUomiIohee90pSY9Y//wnzp3D4MHYtat3pAqAmxueew4aDfQvPLu6Ys4cMNb86kqJE32S16HDh5mNDbOzY+fOiS7FzNLTGcD8/Zn+7YQZGQxgfn6sm/eTmZ9Eg1VUxNzcGMA2bxZdivk1NTFfXwaw//1Pt0mjYUOGMICdOiWism6Q4qFQpUJ0NKqrERWFf/xDdDXmJ5Nh/nzA0Hm6jQ3i4w03SYwUT95ffhnbt+OJJ5CTY4Y3NkrSrVt44gk4OuLuXbi2X8Hx00/43e9gb4+7d9HmhkSpkdyIlZaG7dvh4IC0tN6aKgD+/pg8GfX1SEvTbfLzw9SpUCoNNEmJ5IIVHo6ICGzahDFjRJcilpFZK0uY0JLioVCjgUxygTe7+nr4+KCmBpcv677QS6mEjw/u30dhIUaOFFRfJ4z9A774IqKi8N13hlvr6hAVhago3LzZpT298AKio7FkCRobDbQeO4boaKxeDYBSBQDo0wfR0QAMTGg5OnbYJB1GPjF6ejKApaYabi0vZwADWE5Olz5/PvZYc/8PPjDQun49A9ikSV36Ub3F2bMMYD4+TP+5zrm5LCWF3b8voqwuETA4rFmDO3fMv1sLNGkSRozA3btIT9dtCgrCSy9J+dONuYM1YgRqa7FsmZl3a7EWLgRgScuwfmPu9/usXo3Fi3HgAI4dQ2SkmXdugeLjoVAgNrbdxvJyFBSgvBwODhg4EIGBElz/b+4Ra+BArFgBAK++ivp6M+/cAvn4YPlytDwkPCMDYWHw8sLUqfjLXxAZibFj4emJFSsgsfe4CDjHWrkSvr64fRtvv23+nVuytWsxbRrOnoWrK/78ZyxbhhdfxLhxqKrC+vUYPx7Xr4susVXnh8J9+5Cba2B7m5eGdI+jI/7zH8ydiw0bEBeH0aN7+HN6lz17kJgIAK++iqQkODu3NmVmIiYGN2/iT3/ChQtSedGckU+M2umGTv90a7qh5YL9jBkMYGFhzWtDaLrBmPr65v99Cxca7pCfzxwcGMDeftu8lXWo8xHrlVcMrwmuq8OSJT0PdHIyTp3CmTPYvbv5ow/p0P79qKyEnR2Skgx3CAjAkiXYtAkpKXjrLUmsijQSOh4TpG2XGL31FgOYlxe7f59GLKPi4xnAwsON9Tlzpvnf4/Jlc5VljMirJ2+9BX9/lJZi3TqBVViCvDwAnVyWHzu2eaD68UdzlNQZkcFydMTWrQCwcSNu3xZYiORVVgJA//7G+jg5NZ+2t3nWt0CCr/fOmIFnn8XDh9ixQ2wh0qa9bt/p2+oVCgBQq7nX0wUmnnlXKpGaisxMqFQIDMRrr6H9O2YM2LwZGRk0WWqUmxvu3UNNjbE+Gk1zB2ksKzXliFVXh6eewsqVsLdH//7YuBFBQc2juBGDB2PVKhNWYY38/QHg2jVjfYqK0NTU2lk0UwYrJwc1NbhwAR9/jA8/REYGSkqwZUvn37hihe5SNtLOxIkA8N13hteyaWVkAIBCgXHjzFSVcUY+MZaXs7Iy9vCh4VaNhpWVsbIyZuS1Z97eLDq6+euqKlZZ2WHnBw9YZSWrqenSR9le5+pVZmPDALZ3r+EODQ0sIIABbN4881bWIY73FTY2sj592OLF/PbQm8ydywDWvz8rKNBt0mjYa68xgCkULDdXRHEGcAxWWhoD2Dff8NtDb1Jezp54ggHM2ZmtWcMuXGC//sqKi9mBA2zKFGNrcwXhdTPFL7/g97/HuHE4epTHj++VSksRF4eTJw009e2L99/HCy+YvaYOcQlWaSmefhpyOb79tvPpBtI9p0/j8GFcvIjycvTpAx8fPP00YmLg4SG6snZMH6zvv0dUFDw98dVXrQvUSG9j4pn3HTsweTLCwvDdd5SqXs2UI9YHH+CNNyCXIzi4daN26CK9jSkv6QQHG1gv5OJiwj0QiyHFW+yJFaC72QkXFCzCBQWLcEHBIlxQsAgXFCzCBQWLcEHBIlxQsAgXFCzCBQWLcEHBIlxQsAgXFCzCBQWLcEHBIlxQsAgXFCzCBQWLcEHBIlxQsAgXFCzCBQWLcEHBIlxQsAgXFCzCBQWLcEHBIlxQsAgXFCzCBQWLcEHBIlxQsAgXFCzCBQWLcEHBIlxQsAgXFCzCBQWLcEHBIlxQsAgXFCzCBQWLcEHBIlz8HwF3fy9Kqn/nAAAAwHpUWHRyZGtpdFBLTCByZGtpdCAyMDIzLjAzLjIAAHice79v7T0GIOBlgAAmIGYDYlYgbmBkYzABiTGysDMkABmMTGwMGkCamYUDQjNxMGSAaEagSgOwBDcDI9gQVhZGJmYNJiYWBRGQseJBIO1QzMBmNUl7/0phATuj8rP7rAuO7We817Rf8+3afd057vaHL2vvO5yitdtm7yT7fQYT9z+sUrF/euGSPc9kT3uu64/3Pb0waz9XxiL7Saf/24kBAEZ8K6BXxQHUAAABCnpUWHRNT0wgcmRraXQgMjAyMy4wMy4yAAB4nH1Ru24EIQzs9yv8A4cMGLMUKfZxOUXRsVKyuT5lpJT5f50Nt7dsE6AY2zMMNsPvdwe6Pub3nz94Lj93ksd/TkoJbh4RuysogPF8ecswrcO4ZablK6+fwBBEIfvIHNblumUsTHBCwxEdCtFYwihAUoTWawqm18uL2/gOMpysCQG1KAidoyrwPqn0aeblajQxJqx1y7GvCNFxyyRYwIo1U73TeirWhsmFlhgKkSliKcc+PryJArZE1rascZhUL4D7vkgopYP1Oc+HedQJjUue9wnpbgagod+b1JDLkOzej5MC7a8WAYTWsjXQePs8wd0dbIdmzfv9Rj8AAACVelRYdFNNSUxFUyByZGtpdCAyMDIzLjAzLjIAAHicHYw7DgIxEEOvQpmVspHnk5mECAkpDRVbUSHOQbOHZ0L19Czb8z3vj096bjPdju24nGmnwug1B6y1jKK929hRzMGhpPAcqiAZUa4VkoNg1pWLdB8o7n0ZmbdFgG1QjE1XmUQlvky5RmrqId78f6Bat/x9XePy/AFUBCC19dQHFwAAAABJRU5ErkJggg==\" alt=\"Mol\"/></div></td>\n",
       "    </tr>\n",
       "    <tr>\n",
       "      <th>1</th>\n",
       "      <td>Arg</td>\n",
       "      <td style=\"text-align: center;\"><div style=\"width: 200px; height: 200px\" data-content=\"rdkit/molecule\"><img src=\"data:image/png;base64,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\" alt=\"Mol\"/></div></td>\n",
       "    </tr>\n",
       "    <tr>\n",
       "      <th>2</th>\n",
       "      <td>Asn</td>\n",
       "      <td style=\"text-align: center;\"><div style=\"width: 200px; height: 200px\" data-content=\"rdkit/molecule\"><img src=\"data:image/png;base64,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\" alt=\"Mol\"/></div></td>\n",
       "    </tr>\n",
       "  </tbody>\n",
       "</table>\n",
       "</div>"
      ],
      "text/plain": [
       "    ID                                             ROMol\n",
       "0  Ala  <rdkit.Chem.rdchem.Mol object at 0x7f3e1f5e0f20>\n",
       "1  Arg  <rdkit.Chem.rdchem.Mol object at 0x7f3e1f5e11c0>\n",
       "2  Asn  <rdkit.Chem.rdchem.Mol object at 0x7f3e1f5e3680>"
      ]
     },
     "execution_count": 2,
     "metadata": {},
     "output_type": "execute_result"
    }
   ],
   "source": [
    "# View the first 3 frames\n",
    "df.head(3)"
   ]
  },
  {
   "cell_type": "markdown",
   "id": "745b0e43-8ddb-41a0-84a7-fb2607fcd455",
   "metadata": {},
   "source": [
    "## Options for loading SDF files\n",
    "\n",
    "The SDF loaded from RDKit supports automatically adding the SMILES string to the dataframe when the data is loaded.\n",
    "We can reload our SDF and get the isomeric SMILES (has stereochemistry information) at load time by adding the option\n",
    "`smilesName='SMILES', isomericSmiles=True` to the function after `strictParsing=False` argument. We can also add a molecular \n",
    "fingerprint to each using the argument `includeFingerprints=True`. This will store a fingerprint on the molecule object\n",
    "and make substructure searches faster.\n",
    "\n",
    "You can see the [documentation for the LoadSDF function](http://rdkit.org/docs/source/rdkit.Chem.PandasTools.html#rdkit.Chem.PandasTools.LoadSDF) for more information.\n",
    "\n",
    "<div class=\"exercise admonition\">\n",
    "<p class=\"admonition-title\">Check Your Understanding</p>\n",
    "\n",
    "    Add the arguments `smilesName=\"SMILES\", isomericSmiles=True` and `includeFingerprints=True` to your `LoadSDF` function. Save your result in the `df`\n",
    "    variable and view the first three rows. How is the dataframe different from the dataframe without the arguments?\n",
    "</div>"
   ]
  },
  {
   "cell_type": "code",
   "execution_count": null,
   "id": "259951a2-1861-44bc-b942-fa5ffcd3b415",
   "metadata": {
    "tags": []
   },
   "outputs": [],
   "source": [
    "df = PandasTools.LoadSDF(\"data/amino_acids/amino_acids-nat20.sdf\", strictParsing=False, smilesName=\"SMILES\", isomericSmiles=True, includeFingerprints=True)"
   ]
  },
  {
   "cell_type": "code",
   "execution_count": null,
   "id": "17af2733-f288-4e9e-a46e-2fe7939cb6f5",
   "metadata": {},
   "outputs": [],
   "source": [
    "df.head()"
   ]
  },
  {
   "cell_type": "markdown",
   "id": "416dc5b0-8fa1-41d4-bef6-065dfc310f81",
   "metadata": {
    "tags": []
   },
   "source": [
    "\n",
    "<div class=\"attention admonition\"> \n",
    "<p class=\"admonition-title\">Another way to load SDF Files</p>\n",
    "<p> You might also see a list of RDKit molecule objects created using the `SDMolSupplier` function. The syntax to create a list of Mol objects from an SDF file is:</p>\n",
    "\n",
    "\n",
    "```python\n",
    "mol_list = Chem.SDMolSupplier('path/to/file.sdf')\n",
    "```\n",
    "\n",
    "\n",
    "<p>This will create an RDKit `SDMolSupplier` object. If we would like a list of RDKit `mol` objects, we can cast the variable as a list.</p>\n",
    "</div>\n",
    "\n",
    "\n"
   ]
  },
  {
   "cell_type": "markdown",
   "id": "c77b11b5",
   "metadata": {},
   "source": [
    "### Viewing multiple molecules\n",
    "\n",
    "Multiple molecules can be placed in the same image in an array using `PandasTools.FrameToGridImage`. In the example below, we use the \"ID\" frame to label the molecules. We also add argument `molsPerRow=5` to specify that we want to see 5 molecules on each row."
   ]
  },
  {
   "cell_type": "code",
   "execution_count": null,
   "id": "2afc25bf-69a3-43bd-a7b4-64be5562e749",
   "metadata": {
    "tags": []
   },
   "outputs": [],
   "source": [
    "# Visualize the molecules\n",
    "PandasTools.FrameToGridImage(df, column='ROMol', legendsCol=\"ID\", molsPerRow=5) "
   ]
  },
  {
   "cell_type": "markdown",
   "id": "4103db4b-d3c5-4dff-9668-76aa858d5d46",
   "metadata": {},
   "source": [
    "### Substructure Searches using pandas\n",
    "\n",
    "When you have a molecule column in a pandas dataframe, you can use `>=` to do substructure searches. \n",
    "The syntax for this is\n",
    "\n",
    "```python\n",
    "df[MOL_COLUMN] >= substructure\n",
    "```\n",
    "\n",
    "This will return a list of `True` or `False` depending on if the substructure is in the molecule or not.\n"
   ]
  },
  {
   "cell_type": "code",
   "execution_count": null,
   "id": "8c79c10a-ff92-4659-9a6e-6a330c89323d",
   "metadata": {
    "tags": []
   },
   "outputs": [],
   "source": [
    "phenyl = Chem.MolFromSmarts(\"c1ccccc1\") # first create the mol from the smarts string\n",
    "phenyl"
   ]
  },
  {
   "cell_type": "code",
   "execution_count": null,
   "id": "36c05a96-07a7-4384-a7c5-2e4f45f518a2",
   "metadata": {
    "tags": []
   },
   "outputs": [],
   "source": [
    "df[\"ROMol\"] >= phenyl"
   ]
  },
  {
   "cell_type": "markdown",
   "id": "5f8570e7-0d5e-4d15-bcec-0d593b39782b",
   "metadata": {},
   "source": [
    "You can use this as a filter to show the molecules that have this substructure."
   ]
  },
  {
   "cell_type": "code",
   "execution_count": null,
   "id": "0375502d-1722-4d44-b79d-4e255e0b85c7",
   "metadata": {
    "tags": []
   },
   "outputs": [],
   "source": [
    "df[df[\"ROMol\"] >= phenyl]"
   ]
  },
  {
   "cell_type": "markdown",
   "id": "36d0961e-2024-4ec8-851d-f8641879d976",
   "metadata": {},
   "source": [
    "<div class=\"exercise admonition\"> \n",
    "<p class=\"admonition-title\">Check Your Understanding</p>\n",
    "<p>Do a substructure for all amino acids that contain a methyl group (SMARTS `[CH3]`)</p>\n",
    "\n",
    "</div>"
   ]
  },
  {
   "cell_type": "code",
   "execution_count": null,
   "id": "4c952085-db65-4869-a84f-7787c109ef53",
   "metadata": {},
   "outputs": [],
   "source": []
  },
  {
   "cell_type": "code",
   "execution_count": null,
   "id": "48cdbd1e-968c-4b36-aabb-a54077fb15e0",
   "metadata": {},
   "outputs": [],
   "source": []
  },
  {
   "cell_type": "markdown",
   "id": "93658175-d5c4-46d9-9fb2-747551b04b51",
   "metadata": {},
   "source": [
    "## Building and Saving a Dataset using pandas\n",
    "\n",
    "We can add values for some molecular descriptors to our dataframe using the `apply` method in pandas.\n",
    "The `apply` method applies the function to every cell in a column. \n",
    "We can then save this as a new column in the dataframe by setting `df[new_column_name]` equal to what is returned."
   ]
  },
  {
   "cell_type": "code",
   "execution_count": null,
   "id": "80cfd48a-0939-46d6-aa3c-edc827bd8b5a",
   "metadata": {
    "tags": []
   },
   "outputs": [],
   "source": [
    "from rdkit.Chem import Descriptors\n",
    "\n",
    "df[\"MolWt\"] = df[\"ROMol\"].apply(Descriptors.MolWt) # Saves a new column called \"MolWt\"\n",
    "df[\"TPSA\"] = df[\"ROMol\"].apply(Descriptors.TPSA) # Saves a new column called TPSA\n",
    "df[\"NumHeavyAtoms\"] = df[\"ROMol\"].apply(Descriptors.HeavyAtomCount)"
   ]
  },
  {
   "cell_type": "code",
   "execution_count": null,
   "id": "cb99b858-8a74-47a1-9dca-7e1b4f103cbb",
   "metadata": {},
   "outputs": [],
   "source": [
    "df.head()"
   ]
  },
  {
   "cell_type": "markdown",
   "id": "79509cf7-edb8-4e9d-9c2f-5d2f463f5421",
   "metadata": {},
   "source": [
    "We can save our dataset as an SDF with the properties we've calculated embedded by using the `PandasTools.WriteSDF` function.\n",
    "To include our calculated properties, we add `properties=list(df.columns)`. This will create a file called `amino_acids-data.sdf` \n",
    "in our `data` folder."
   ]
  },
  {
   "cell_type": "code",
   "execution_count": null,
   "id": "73e34472-e5cf-4363-8e1c-de86f27d105b",
   "metadata": {
    "tags": []
   },
   "outputs": [],
   "source": [
    "PandasTools.WriteSDF(df, \"data/amino_acids-data.sdf\", properties=list(df.columns), allNumeric=True)"
   ]
  },
  {
   "cell_type": "markdown",
   "id": "321993a7-8f17-4206-98fe-584e6aba5758",
   "metadata": {},
   "source": [
    "<div class=\"exercise admonition\"> \n",
    "<p class=\"admonition-title\">Exercise</p>\n",
    "<p>You have another SDF in your data folder called 'vitamins.sdf'. Load this SDF into a dataframe, perform substructure searches, and creat a dataset of molecular descriptors.\n",
    "    </p>\n",
    "\n",
    "</div>"
   ]
  },
  {
   "cell_type": "code",
   "execution_count": null,
   "id": "c58ff851-1ca3-4184-bda3-480f6b9fa52b",
   "metadata": {},
   "outputs": [],
   "source": []
  },
  {
   "cell_type": "code",
   "execution_count": null,
   "id": "f061bc10-b906-4504-a51e-7591ab2f82cf",
   "metadata": {},
   "outputs": [],
   "source": []
  },
  {
   "cell_type": "code",
   "execution_count": null,
   "id": "df668b3e-acad-481f-8d2a-d7f804518caf",
   "metadata": {},
   "outputs": [],
   "source": []
  },
  {
   "cell_type": "code",
   "execution_count": null,
   "id": "113d67e3-474a-4806-adb9-b19ade41849c",
   "metadata": {},
   "outputs": [],
   "source": []
  }
 ],
 "metadata": {
  "kernelspec": {
   "display_name": "Python 3 (ipykernel)",
   "language": "python",
   "name": "python3"
  },
  "language_info": {
   "codemirror_mode": {
    "name": "ipython",
    "version": 3
   },
   "file_extension": ".py",
   "mimetype": "text/x-python",
   "name": "python",
   "nbconvert_exporter": "python",
   "pygments_lexer": "ipython3",
   "version": "3.10.12"
  }
 },
 "nbformat": 4,
 "nbformat_minor": 5
}
