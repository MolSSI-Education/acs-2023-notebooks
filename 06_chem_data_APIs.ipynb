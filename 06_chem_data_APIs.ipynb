{
 "cells": [
  {
   "cell_type": "code",
   "execution_count": 1,
   "id": "3a295354-ec9e-4a09-82ec-1e0a18cc9927",
   "metadata": {
    "tags": []
   },
   "outputs": [
    {
     "data": {
      "text/html": [
       "\n",
       " <meta charset=\"utf-8\" />\n",
       "    <meta name=\"viewport\" content=\"width=device-width, initial-scale=1.0\" /><meta name=\"generator\" content=\"Docutils 0.19: https://docutils.sourceforge.io/\" />\n",
       "\n",
       "    <link rel=\"stylesheet\" type=\"text/css\" href=\"custom/custom.css\" />\n"
      ],
      "text/plain": [
       "<IPython.core.display.HTML object>"
      ]
     },
     "execution_count": 1,
     "metadata": {},
     "output_type": "execute_result"
    }
   ],
   "source": [
    "# apply Jupyter notebook style\n",
    "from IPython.core.display import HTML\n",
    "\n",
    "from custom.styles import style_string\n",
    "\n",
    "HTML(style_string)\n"
   ]
  },
  {
   "cell_type": "markdown",
   "id": "8cb217fd-2325-4102-8fe8-f89dba82d338",
   "metadata": {},
   "source": [
    "# Chemical Data Sources\n",
    "\n",
    "<div class=\"overview admonition\"> \n",
    "<p class=\"admonition-title\">Overview</p>\n",
    "\n",
    "Questions:\n",
    "\n",
    "* Question 1\n",
    "\n",
    "Objectives:\n",
    "\n",
    "* Learn about chemical data sources available on the web.\n",
    "    \n",
    "* Use Python requests and web APIs to programmatically retrieve information.\n",
    "\n",
    "</div>\n",
    "\n",
    "PubChem: PubChem is a comprehensive public database of chemical molecules and their biological activities. It is maintained by the National Center for Biotechnology Information (NCBI) and contains information on compound structures, properties, bioassays, and more.\n",
    "Website: https://pubchem.ncbi.nlm.nih.gov/\n",
    "\n",
    "ChEMBL: ChEMBL is a large-scale bioactivity database for drug discovery. It is maintained by the European Molecular Biology Laboratory (EMBL) and contains information on bioactive molecules, targets, and assay data, mainly curated from scientific literature.\n",
    "Website: https://www.ebi.ac.uk/chembl/\n",
    "\n",
    "Protein Data Bank (PDB): The Protein Data Bank is the worldwide repository for 3D structural data of proteins, nucleic acids, and their complexes. It provides information on atomic coordinates, experimental details, and biological context. The PDB is managed by the Research Collaboratory for Structural Bioinformatics (RCSB).\n",
    "Website: https://www.rcsb.org/\n",
    "\n",
    "Materials Project: The Materials Project is a collaborative effort to provide an open-source database of materials properties using high-throughput computational methods. It offers a variety of data, including crystal structures, electronic properties, and phase diagrams for various materials.\n",
    "Website: https://materialsproject.org/\n",
    "\n",
    "ChemSpider: ChemSpider is a free chemical structure database owned by the Royal Society of Chemistry. It aggregates data from various sources, providing information on chemical structures, properties, and associated biological activities.\n",
    "Website: http://www.chemspider.com/\n",
    "\n",
    "Additional chemical data sources:\n",
    "\n",
    "ZINC: ZINC is a free database of commercially available compounds for virtual screening. It contains information on millions of purchasable molecules, including 3D structures, properties, and vendor information.\n",
    "Website: http://zinc.docking.org/\n",
    "\n",
    "DrugBank: DrugBank is a comprehensive database containing information on drugs and drug targets. It combines detailed drug data with comprehensive drug target information, including sequence, structure, and pathway data.\n",
    "Website: https://www.drugbank.ca/\n",
    "\n",
    "Crystallography Open Database (COD): COD is an open-access database of crystal structures, containing information on organic, inorganic, and metal-organic compounds. It provides crystallographic data, such as atomic coordinates, unit cell parameters, and space groups.\n",
    "Website: http://www.crystallography.net/cod/\n",
    "\n",
    "Cambridge Structural Database (CSD): The CSD is a database of small-molecule organic and metal-organic crystal structures. It is maintained by the Cambridge Crystallographic Data Centre (CCDC) and provides information on crystal structures, geometries, and related bibliographic data. Note that this is a commercial database and requires a subscription.\n",
    "Website: https://www.ccdc.cam.ac.uk/solutions/csd-system/components/csd/"
   ]
  },
  {
   "cell_type": "code",
   "execution_count": null,
   "id": "e5256db2-6a9f-4d1f-8e60-ddac32be8e91",
   "metadata": {},
   "outputs": [],
   "source": []
  }
 ],
 "metadata": {
  "kernelspec": {
   "display_name": "Python 3 (ipykernel)",
   "language": "python",
   "name": "python3"
  },
  "language_info": {
   "codemirror_mode": {
    "name": "ipython",
    "version": 3
   },
   "file_extension": ".py",
   "mimetype": "text/x-python",
   "name": "python",
   "nbconvert_exporter": "python",
   "pygments_lexer": "ipython3",
   "version": "3.11.0"
  }
 },
 "nbformat": 4,
 "nbformat_minor": 5
}
