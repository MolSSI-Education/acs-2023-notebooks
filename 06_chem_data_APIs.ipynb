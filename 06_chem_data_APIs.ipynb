{
 "cells": [
  {
   "cell_type": "code",
   "execution_count": 1,
   "id": "3a295354-ec9e-4a09-82ec-1e0a18cc9927",
   "metadata": {
    "tags": []
   },
   "outputs": [
    {
     "data": {
      "text/html": [
       "\n",
       " <meta charset=\"utf-8\" />\n",
       "    <meta name=\"viewport\" content=\"width=device-width, initial-scale=1.0\" /><meta name=\"generator\" content=\"Docutils 0.19: https://docutils.sourceforge.io/\" />\n",
       "\n",
       "    <link rel=\"stylesheet\" type=\"text/css\" href=\"custom/custom.css\" />\n"
      ],
      "text/plain": [
       "<IPython.core.display.HTML object>"
      ]
     },
     "execution_count": 1,
     "metadata": {},
     "output_type": "execute_result"
    }
   ],
   "source": [
    "# apply Jupyter notebook style\n",
    "from IPython.core.display import HTML\n",
    "\n",
    "from custom.styles import style_string\n",
    "\n",
    "HTML(style_string)\n"
   ]
  },
  {
   "cell_type": "markdown",
   "id": "8cb217fd-2325-4102-8fe8-f89dba82d338",
   "metadata": {},
   "source": [
    "# Chemical Data Sources\n",
    "\n",
    "<div class=\"overview admonition\"> \n",
    "<p class=\"admonition-title\">Overview</p>\n",
    "\n",
    "Questions:\n",
    "\n",
    "* What kinds of chemical data are available online?\n",
    "\n",
    "* How can I use Python to retrieve information from chemical databases?\n",
    "    \n",
    "* What is a REST API?\n",
    "\n",
    "Objectives:\n",
    "\n",
    "* Learn about chemical data sources available on the web.\n",
    "    \n",
    "* Use Python requests and web APIs to programmatically retrieve information.\n",
    "\n",
    "</div>\n",
    "\n",
    "## Web Databases\n",
    "\n",
    "In this lesson, we will explore online chemical databases and learn how to use Python to retrieve information from them. These databases offer data on chemical structures, properties, biological activities, and more. By the end of this lesson, you will be familiar with several popular chemical data sources and be able to access their data using Python and REST APIs.\n",
    "\n",
    "Some popular chemical databases along with their websites are listed below:\n",
    "\n",
    "[PubChem](https://pubchem.ncbi.nlm.nih.gov/): PubChem is a comprehensive public database of chemical molecules and their biological activities. It is maintained by the National Center for Biotechnology Information (NCBI) and contains information on compound structures, properties, bioassays, and more.\n",
    "\n",
    "[ChEMBL](https://www.ebi.ac.uk/chembl/): ChEMBL is a large-scale bioactivity database for drug discovery. It is maintained by the European Molecular Biology Laboratory (EMBL) and contains information on bioactive molecules, targets, and assay data, mainly curated from scientific literature.\n",
    "\n",
    "[Protein Data Bank (PDB)](https://www.rcsb.org/): The Protein Data Bank is a repository for 3D structural data of proteins, nucleic acids, and their complexes. It provides information on atomic coordinates, experimental details, and biological context. The PDB is managed by the Research Collaboratory for Structural Bioinformatics (RCSB).\n",
    "\n",
    "[Materials Project](https://materialsproject.org/): The Materials Project is a collaborative effort to provide an open-source database of materials properties using high-throughput computational methods. It offers a variety of data, including crystal structures, electronic properties, and phase diagrams for various materials.\n",
    "\n",
    "[ChemSpider](http://www.chemspider.com/): ChemSpider is a free chemical structure database owned by the Royal Society of Chemistry. It aggregates data from various sources, providing information on chemical structures, properties, and associated biological activities.\n",
    "\n",
    "[NIST Chemistry WebBook](): The Chemistry WebBook is maintained by the National Institutes of Standards and Technology (NIST) and provides chemical and physical property data for molecular systems.\n",
    "\n",
    "[ZINC](http://zinc.docking.org/): ZINC is a free database of commercially available compounds for virtual screening. It contains information on millions of purchasable molecules, including 3D structures, properties, and vendor information. \n",
    "\n",
    "[DrugBank](https://www.drugbank.ca/): DrugBank is a comprehensive database containing information on drugs and drug targets. It combines detailed drug data with comprehensive drug target information, including sequence, structure, and pathway data.\n",
    "\n",
    "\n",
    "[Crystallography Open Database (COD)](http://www.crystallography.net/cod/): COD is an open-access database of crystal structures, containing information on organic, inorganic, and metal-organic compounds. It provides crystallographic data, such as atomic coordinates, unit cell parameters, and space groups.\n",
    "\n",
    "There are many more examples of chemical data sources which we were not able to list here."
   ]
  },
  {
   "cell_type": "markdown",
   "id": "5918c3e4-4f55-421e-91a3-b53653f1af5d",
   "metadata": {},
   "source": [
    "<div class=\"exercise admonition\">\n",
    "<p class=\"admonition-title\">Exercise</p>\n",
    "    <p>In the next section, we will work with PubChem programmatically. First, it will be useful for you to familiarize yourself with the PubChem website. \n",
    "        Go to <a href=\"https://pubchem.ncbi.nlm.nih.gov/\">PubChem </a> and look up aspirin. Retrieve the molecular weight, number of hydrogen bond\n",
    "        acceptors, and the topological polar surface area and save them in variables.</p>\n",
    "    <p>Next retrieve the same information using RDKit.</p>\n",
    "</div>"
   ]
  },
  {
   "cell_type": "code",
   "execution_count": 2,
   "id": "94f2421d-b1d2-4eb9-bb49-d708f1a2934c",
   "metadata": {
    "tags": []
   },
   "outputs": [],
   "source": [
    "aspririn_smiles = \"CC(=O)OC1=CC=CC=C1C(=O)O\"\n",
    "#aspirin_mw = \n",
    "#aspirin_h_donors = \n",
    "#aspirin_tpsa = "
   ]
  },
  {
   "cell_type": "code",
   "execution_count": null,
   "id": "22003e49-9ad2-494c-91e2-25fafbc80f53",
   "metadata": {},
   "outputs": [],
   "source": [
    "# Retrieve the same information with RDKit\n"
   ]
  },
  {
   "cell_type": "markdown",
   "id": "90a13344-25fb-4ce8-a956-0eb96042a8e3",
   "metadata": {},
   "source": [
    "All of these databases mentioned so far are accessible on the web through your browser. \n",
    "Some of them also provide application program interfaces (APIs) that allow you to access them programmatically.\n",
    "Today, we will be access databases which provide REST APIs using a Python library for retrieving information from the web.\n",
    "\n",
    "## REST APIs\n",
    "Many of these databases can be accessed programmatically through something called a REST API.\n",
    "REST stands for **R**epresentational **S**tate **T**ransfer. API stands for **A**pplication **P**rogramming **I**nterface. \n",
    "A REST API is a type of web API that is used to allow different software systems to communicate with each other over the internet. \n",
    "\n",
    "Usually a REST API is accessed by varying parameters in a URL.\n",
    "\n",
    "We will work with the PubChem REST API first to demonstrate what this means.\n",
    "\n",
    "PubChem has a few REST APIs and the first we will look at is called [PUG REST](https://pubchem.ncbi.nlm.nih.gov/docs/pug-rest#section=URL-based-API).\n",
    "\n",
    "To retrieve information using PUG REST, you add parameters to the base URL\n",
    "\n",
    "\n",
    "```\n",
    "https://pubchem.ncbi.nlm.nih.gov/rest/pug\n",
    "```\n",
    "\n",
    "For example, to retrieve information about aspirin using SMILES, we would add\n",
    "\n",
    "`/compound/smiles/{aspirin_smiles}`\n",
    "\n",
    "The full URL will be\n",
    "\n",
    "```\n",
    "https://pubchem.ncbi.nlm.nih.gov/rest/pug/compound/smiles/CC(=O)OC1=CC=CC=C1C(=O)O\n",
    "```\n",
    "\n",
    "Go to this URL in your browser.\n",
    "The output will be information about the molecule. \n",
    "The output format is something called XML. However, we will want our data to be in something called JSON.\n",
    "Thus, we will add `/JSON` to the end of our URL.\n"
   ]
  },
  {
   "cell_type": "code",
   "execution_count": 3,
   "id": "e5256db2-6a9f-4d1f-8e60-ddac32be8e91",
   "metadata": {},
   "outputs": [],
   "source": []
  },
  {
   "cell_type": "markdown",
   "id": "d16bcd79-d422-4501-a2a7-0b9bab8047dd",
   "metadata": {},
   "source": []
  },
  {
   "cell_type": "code",
   "execution_count": null,
   "id": "d1bab1f3",
   "metadata": {},
   "outputs": [],
   "source": []
  }
 ],
 "metadata": {
  "kernelspec": {
   "display_name": "Python 3 (ipykernel)",
   "language": "python",
   "name": "python3"
  },
  "language_info": {
   "codemirror_mode": {
    "name": "ipython",
    "version": 3
   },
   "file_extension": ".py",
   "mimetype": "text/x-python",
   "name": "python",
   "nbconvert_exporter": "python",
   "pygments_lexer": "ipython3",
   "version": "3.11.0"
  }
 },
 "nbformat": 4,
 "nbformat_minor": 5
}
